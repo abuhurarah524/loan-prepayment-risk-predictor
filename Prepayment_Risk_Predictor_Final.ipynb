{
 "cells": [
  {
   "attachments": {},
   "cell_type": "markdown",
   "metadata": {},
   "source": [
    "### Importing Libararies"
   ]
  },
  {
   "cell_type": "code",
   "execution_count": 1,
   "metadata": {},
   "outputs": [],
   "source": [
    "import numpy as np\n",
    "import pandas as pd\n",
    "import seaborn as sns\n",
    "import xgboost as xgb\n",
    "import matplotlib.pyplot as plt\n",
    "from sklearn.decomposition import PCA\n",
    "from sklearn.preprocessing import LabelEncoder\n",
    "from sklearn.preprocessing import MinMaxScaler\n",
    "from sklearn.preprocessing import OneHotEncoder\n",
    "from sklearn.preprocessing import StandardScaler\n",
    "from sklearn.model_selection import train_test_split \n",
    "from sklearn.ensemble import GradientBoostingClassifier\n",
    "from sklearn.feature_selection import SelectKBest, f_classif\n",
    "from sklearn.feature_selection import SelectKBest, mutual_info_classif\n",
    "from sklearn.metrics import classification_report, accuracy_score, confusion_matrix"
   ]
  },
  {
   "attachments": {},
   "cell_type": "markdown",
   "metadata": {},
   "source": [
    "### Loading dataset"
   ]
  },
  {
   "cell_type": "code",
   "execution_count": null,
   "metadata": {},
   "outputs": [],
   "source": [
    "df=pd.read_csv(\"./LoanExport/LoanExport.csv\",low_memory=False)"
   ]
  },
  {
   "attachments": {},
   "cell_type": "markdown",
   "metadata": {},
   "source": [
    "## Data Pre-Processing & EDA"
   ]
  },
  {
   "cell_type": "code",
   "execution_count": null,
   "metadata": {},
   "outputs": [],
   "source": [
    "df.head()"
   ]
  },
  {
   "cell_type": "code",
   "execution_count": null,
   "metadata": {},
   "outputs": [],
   "source": [
    "df.info()"
   ]
  },
  {
   "cell_type": "code",
   "execution_count": null,
   "metadata": {},
   "outputs": [],
   "source": [
    "df.describe()"
   ]
  },
  {
   "attachments": {},
   "cell_type": "markdown",
   "metadata": {},
   "source": [
    "### Realizations\n",
    "1. Average credit score is 709\n",
    "2. Average MIP is 9\n",
    "3. Average OCLTV is 77\n",
    "4. Average DTI is 30\n",
    "5. Average OrigUPB is 124940\n",
    "6. Average LTV is 77\n",
    "7. Average Interest rate is 7%"
   ]
  },
  {
   "attachments": {},
   "cell_type": "markdown",
   "metadata": {},
   "source": [
    "### Checking Null Values"
   ]
  },
  {
   "cell_type": "code",
   "execution_count": null,
   "metadata": {},
   "outputs": [],
   "source": [
    "print(df.isnull().sum().sort_values(ascending=False),\"\\n\\n\",df.isnull().sum()/df.shape[0] *100,\"\\n\\n\")"
   ]
  },
  {
   "attachments": {},
   "cell_type": "markdown",
   "metadata": {},
   "source": [
    "### Numeric and Categoric Columns"
   ]
  },
  {
   "cell_type": "code",
   "execution_count": null,
   "metadata": {},
   "outputs": [],
   "source": [
    "#list of all the numeric columns\n",
    "num = df.select_dtypes('number').columns.to_list()\n",
    "#list of all the categoric columns\n",
    "cat = df.select_dtypes('object').columns.to_list()"
   ]
  },
  {
   "cell_type": "code",
   "execution_count": null,
   "metadata": {},
   "outputs": [],
   "source": [
    "num"
   ]
  },
  {
   "cell_type": "code",
   "execution_count": null,
   "metadata": {},
   "outputs": [],
   "source": [
    "cat"
   ]
  },
  {
   "cell_type": "code",
   "execution_count": null,
   "metadata": {},
   "outputs": [],
   "source": [
    "# check unique values in categorical cols \n",
    "[df[category].value_counts() for category in cat[1:]]"
   ]
  },
  {
   "cell_type": "code",
   "execution_count": null,
   "metadata": {},
   "outputs": [],
   "source": [
    "# check unique values in numerical cols \n",
    "[df[numerical].value_counts() for numerical in num[1:]]"
   ]
  },
  {
   "attachments": {},
   "cell_type": "markdown",
   "metadata": {},
   "source": [
    "#### There are some columns having value 'X' which means there is no information available. So we are changing it with NaN values."
   ]
  },
  {
   "cell_type": "code",
   "execution_count": null,
   "metadata": {},
   "outputs": [],
   "source": [
    "df['FirstTimeHomebuyer'] = df['FirstTimeHomebuyer'].replace('X', np.nan)\n",
    "df['MSA'] = df['MSA'].replace('X    ',np.nan)\n",
    "df['PPM'] = df['PPM'].replace('X', np.nan)\n",
    "df['PropertyType'] = df['PropertyType'].replace('X ', np.nan)\n",
    "df['NumBorrowers'] = df['NumBorrowers'].replace('X ', np.nan)"
   ]
  },
  {
   "attachments": {},
   "cell_type": "markdown",
   "metadata": {},
   "source": [
    "### Checking Nulls after replacing X values"
   ]
  },
  {
   "cell_type": "code",
   "execution_count": null,
   "metadata": {},
   "outputs": [],
   "source": [
    "df.isnull().sum()"
   ]
  },
  {
   "attachments": {},
   "cell_type": "markdown",
   "metadata": {},
   "source": [
    "#### Handling Missing Values in FirstTimeHomebuyer, PPM and NumBorrowers using mode imputation and dropping MSA and SellerName columns"
   ]
  },
  {
   "cell_type": "code",
   "execution_count": null,
   "metadata": {},
   "outputs": [],
   "source": [
    "# Mode imputation\n",
    "df['FirstTimeHomebuyer'].fillna(df['FirstTimeHomebuyer'].mode()[0], inplace=True)\n",
    "df['PPM'].fillna(df['PPM'].mode()[0], inplace=True)\n",
    "df['NumBorrowers'].fillna(df['NumBorrowers'].mode()[0], inplace=True)\n",
    "df['PropertyType'].fillna(df['PropertyType'].mode()[0], inplace=True)\n",
    "df['MSA'].fillna(df['MSA'].mode()[0], inplace=True)\n",
    "df['SellerName'].fillna(df['SellerName'].mode()[0], inplace=True)"
   ]
  },
  {
   "cell_type": "code",
   "execution_count": null,
   "metadata": {},
   "outputs": [],
   "source": [
    "df.isnull().sum()"
   ]
  },
  {
   "attachments": {},
   "cell_type": "markdown",
   "metadata": {},
   "source": [
    "### Converting FirstPaymentDate & MaturityDate into correct date format"
   ]
  },
  {
   "cell_type": "code",
   "execution_count": null,
   "metadata": {},
   "outputs": [],
   "source": [
    "df['FirstPaymentDate'] = pd.to_datetime(df['FirstPaymentDate'], format='%Y%m')\n",
    "df['MaturityDate'] = pd.to_datetime(df['MaturityDate'], format='%Y%m')\n"
   ]
  },
  {
   "cell_type": "code",
   "execution_count": null,
   "metadata": {},
   "outputs": [],
   "source": [
    "df['FirstPaymentDate'].value_counts()"
   ]
  },
  {
   "cell_type": "code",
   "execution_count": null,
   "metadata": {},
   "outputs": [],
   "source": [
    "df['MaturityDate'].value_counts()"
   ]
  },
  {
   "attachments": {},
   "cell_type": "markdown",
   "metadata": {},
   "source": [
    "#### Creating Pre-Payment Risk(Target) Variable"
   ]
  },
  {
   "cell_type": "code",
   "execution_count": null,
   "metadata": {},
   "outputs": [],
   "source": [
    "df['PrepaymentRisk'] = df['CreditScore'] * df['DTI']\n",
    "\n",
    "# Scale the prepayment risk values between 0 and 1\n",
    "scaler = MinMaxScaler()\n",
    "df['PrepaymentRisk'] = scaler.fit_transform(df[['PrepaymentRisk']])"
   ]
  },
  {
   "attachments": {},
   "cell_type": "markdown",
   "metadata": {},
   "source": [
    "### Numeric and Categoric Dataframes"
   ]
  },
  {
   "cell_type": "code",
   "execution_count": null,
   "metadata": {},
   "outputs": [],
   "source": [
    "cat = df.select_dtypes('object').columns.to_list()\n",
    "num = df.select_dtypes('number').columns.to_list()"
   ]
  },
  {
   "cell_type": "code",
   "execution_count": null,
   "metadata": {},
   "outputs": [],
   "source": [
    "#numeric df\n",
    "BM_num =  df[num]\n",
    "#categoric df\n",
    "BM_cat = df[cat]"
   ]
  },
  {
   "attachments": {},
   "cell_type": "markdown",
   "metadata": {},
   "source": [
    "## Univariant Analysis"
   ]
  },
  {
   "attachments": {},
   "cell_type": "markdown",
   "metadata": {},
   "source": [
    "### Categoric Columns"
   ]
  },
  {
   "cell_type": "code",
   "execution_count": null,
   "metadata": {},
   "outputs": [],
   "source": [
    "plt.figure(figsize=(6,4))\n",
    "sns.countplot(x='FirstTimeHomebuyer' , data=df ,palette='mako')\n",
    "plt.xlabel('FirstTimeHomebuyer', fontsize=14)\n",
    "plt.show()\n"
   ]
  },
  {
   "cell_type": "code",
   "execution_count": null,
   "metadata": {},
   "outputs": [],
   "source": [
    "plt.figure(figsize=(6,4))\n",
    "sns.countplot(x='Occupancy' , data=df ,palette='mako')\n",
    "plt.xlabel('Occupancy', fontsize=14)\n",
    "plt.show()\n"
   ]
  },
  {
   "cell_type": "code",
   "execution_count": null,
   "metadata": {},
   "outputs": [],
   "source": [
    "plt.figure(figsize=(6,4))\n",
    "sns.countplot(x='Channel' , data=df ,palette='mako')\n",
    "plt.xlabel('Channel', fontsize=14)\n",
    "plt.show()"
   ]
  },
  {
   "cell_type": "code",
   "execution_count": null,
   "metadata": {},
   "outputs": [],
   "source": [
    "plt.figure(figsize=(6,4))\n",
    "sns.countplot(x='PPM' , data=df ,palette='mako')\n",
    "plt.xlabel('PPM', fontsize=14)\n",
    "plt.show()"
   ]
  },
  {
   "cell_type": "code",
   "execution_count": null,
   "metadata": {},
   "outputs": [],
   "source": [
    "plt.figure(figsize=(27,15))\n",
    "sns.countplot(x='PropertyState' , data=df ,palette='mako')\n",
    "plt.xlabel('PropertyState', fontsize=14)\n",
    "plt.show()"
   ]
  },
  {
   "cell_type": "code",
   "execution_count": null,
   "metadata": {},
   "outputs": [],
   "source": [
    "plt.figure(figsize=(6,4))\n",
    "sns.countplot(x='PropertyType' , data=df ,palette='mako')\n",
    "plt.xlabel('PropertyType', fontsize=14)\n",
    "plt.show()"
   ]
  },
  {
   "cell_type": "code",
   "execution_count": null,
   "metadata": {},
   "outputs": [],
   "source": [
    "plt.figure(figsize=(6,4))\n",
    "sns.countplot(x='LoanPurpose' , data=df ,palette='mako')\n",
    "plt.xlabel('LoanPurpose', fontsize=14)\n",
    "plt.show()"
   ]
  },
  {
   "attachments": {},
   "cell_type": "markdown",
   "metadata": {},
   "source": [
    "#### Categoric columns realizations\n",
    "\n",
    "* `FirstTimeHomebuyer` - Most of the the borrowers are not first-time homebuyer.\n",
    "* `Occupancy` - Most of the properties are `owner-occupied`\n",
    "* `Channel` - Origination channel is mostly `Third-party (T)`. \n",
    "* `PPM` - Almost most of the loans borrowed by borrowers have no prepayment penalty. \n",
    "* `PropertyState` - Most of the properties are loacted in '`California' (CA)`.\n",
    "* `PropertyType` - Most of the properties are for `Single-Family (SF)`.\n",
    "* `LoanPurpose` - The loan purpose for `Purchase(P)` have most values.\n"
   ]
  },
  {
   "cell_type": "code",
   "execution_count": null,
   "metadata": {},
   "outputs": [],
   "source": [
    "num"
   ]
  },
  {
   "attachments": {},
   "cell_type": "markdown",
   "metadata": {},
   "source": [
    "### Numeric Columns "
   ]
  },
  {
   "cell_type": "code",
   "execution_count": null,
   "metadata": {},
   "outputs": [],
   "source": [
    "cols_num=[\n",
    "'CreditScore',\n",
    " 'MIP',\n",
    " 'Units',\n",
    " 'OCLTV',\n",
    " 'DTI',\n",
    " 'OrigUPB',\n",
    " 'LTV',\n",
    " 'OrigInterestRate',\n",
    " 'OrigLoanTerm',\n",
    " 'EverDelinquent',\n",
    " 'MonthsDelinquent',\n",
    " 'MonthsInRepayment',\n",
    " 'PrepaymentRisk']"
   ]
  },
  {
   "cell_type": "code",
   "execution_count": null,
   "metadata": {},
   "outputs": [],
   "source": [
    "for col in cols_num:\n",
    "    plt.figure(figsize=(8,6))\n",
    "    sns.histplot(df[col], kde=True, bins=50)\n",
    "    plt.xlabel(col)\n",
    "    plt.ylabel('Count')\n",
    "    plt.title(f\"Distribution of {col}\")\n",
    "    plt.show()"
   ]
  },
  {
   "attachments": {},
   "cell_type": "markdown",
   "metadata": {},
   "source": [
    "### Realizations\n",
    "1. Credit score follows a left skewed distribution. Most values are concentrated within 500-800 points\n",
    "2. Interest Rates are lying between 6-8%\n",
    "3. OrigUPB values are lying between 100000-300000\n",
    "4. LTV and OCLTV follows a left skewed distribution. Highest value of both is between 80 to 100"
   ]
  },
  {
   "attachments": {},
   "cell_type": "markdown",
   "metadata": {},
   "source": [
    "##  Bivariant Analysis of Numerical Columns"
   ]
  },
  {
   "cell_type": "code",
   "execution_count": null,
   "metadata": {},
   "outputs": [],
   "source": [
    "# Create a boxplot to compare the credit scores of first-time homebuyers vs. repeat homebuyers\n",
    "sns.boxplot(x='FirstTimeHomebuyer', y='CreditScore', data=df)\n",
    "plt.show()"
   ]
  },
  {
   "cell_type": "code",
   "execution_count": null,
   "metadata": {},
   "outputs": [],
   "source": [
    "# Create a scatter plot to visualize the relationship between debt-to-income ratio and original interest rate\n",
    "sns.scatterplot(x='DTI', y='OrigInterestRate', data=df)\n",
    "plt.show()"
   ]
  },
  {
   "cell_type": "code",
   "execution_count": null,
   "metadata": {},
   "outputs": [],
   "source": [
    "# Stacked bar chart of PropertyType vs PrepaymentRisk\n",
    "pd.crosstab(df['PropertyType'], df['EverDelinquent']).plot(kind='bar', stacked=True)\n",
    "plt.show()"
   ]
  },
  {
   "cell_type": "code",
   "execution_count": null,
   "metadata": {},
   "outputs": [],
   "source": [
    "sns.histplot(data=df, x='DTI', hue='EverDelinquent', element='step')"
   ]
  },
  {
   "cell_type": "code",
   "execution_count": null,
   "metadata": {},
   "outputs": [],
   "source": [
    "# Plot line graph\n",
    "df.groupby(['FirstPaymentDate'])['CreditScore'].mean().plot()\n",
    "plt.xlabel('First Payment Date')\n",
    "plt.ylabel('Average Credit Score')\n",
    "plt.show()"
   ]
  },
  {
   "cell_type": "code",
   "execution_count": null,
   "metadata": {},
   "outputs": [],
   "source": [
    "df.groupby(['FirstPaymentDate'])['OrigInterestRate'].mean().plot()\n",
    "plt.xlabel('First Payment Date')\n",
    "plt.ylabel('Average OrigInterestRate')\n",
    "plt.show()"
   ]
  },
  {
   "cell_type": "code",
   "execution_count": null,
   "metadata": {},
   "outputs": [],
   "source": [
    "df.groupby(['FirstPaymentDate'])['DTI'].mean().plot()\n",
    "plt.xlabel('First Payment Date')\n",
    "plt.ylabel('Average DTI')\n",
    "plt.show()"
   ]
  },
  {
   "attachments": {},
   "cell_type": "markdown",
   "metadata": {},
   "source": [
    "## Multi-Variant Analysis of Numerical Columns"
   ]
  },
  {
   "cell_type": "code",
   "execution_count": null,
   "metadata": {},
   "outputs": [],
   "source": [
    "# Create a pairplot to visualize the relationships between numeric variables\n",
    "sns.pairplot(df[['CreditScore', 'DTI', 'OrigUPB', 'LTV', 'OrigInterestRate']])\n",
    "plt.show()"
   ]
  },
  {
   "cell_type": "code",
   "execution_count": null,
   "metadata": {},
   "outputs": [],
   "source": [
    "num"
   ]
  },
  {
   "attachments": {},
   "cell_type": "markdown",
   "metadata": {},
   "source": [
    "## Feature Engineering"
   ]
  },
  {
   "cell_type": "code",
   "execution_count": null,
   "metadata": {},
   "outputs": [],
   "source": [
    "df['Location'] = df['PostalCode'].astype(str) + '' + df['PropertyState']"
   ]
  },
  {
   "cell_type": "code",
   "execution_count": null,
   "metadata": {},
   "outputs": [],
   "source": [
    "df.head()"
   ]
  },
  {
   "cell_type": "code",
   "execution_count": null,
   "metadata": {},
   "outputs": [],
   "source": [
    "df = df.drop(['PostalCode','PropertyState'], axis=1)"
   ]
  },
  {
   "cell_type": "code",
   "execution_count": null,
   "metadata": {},
   "outputs": [],
   "source": [
    "# Extract month and year from FirstPaymentDate\n",
    "df['FirstPaymentMonth'] = df['FirstPaymentDate'].dt.month\n",
    "df['FirstPaymentYear'] = df['FirstPaymentDate'].dt.year\n",
    "\n",
    "# Extract month and year from MaturityDate\n",
    "df['MaturityMonth'] = df['MaturityDate'].dt.month\n",
    "df['MaturityYear'] = df['MaturityDate'].dt.year\n"
   ]
  },
  {
   "cell_type": "code",
   "execution_count": null,
   "metadata": {},
   "outputs": [],
   "source": [
    "df = df.drop(['FirstPaymentDate','MaturityDate'], axis=1)"
   ]
  },
  {
   "cell_type": "code",
   "execution_count": null,
   "metadata": {},
   "outputs": [],
   "source": [
    "df.head()"
   ]
  },
  {
   "attachments": {},
   "cell_type": "markdown",
   "metadata": {},
   "source": [
    "### Finding Outliers "
   ]
  },
  {
   "cell_type": "code",
   "execution_count": null,
   "metadata": {},
   "outputs": [],
   "source": [
    "# find and print outliers for each numerical column\n",
    "for col in num:\n",
    "    q1 = df[col].quantile(0.15)\n",
    "    q3 = df[col].quantile(0.85)\n",
    "    iqr = q3 - q1\n",
    "    lower_bound = q1 - 1 * iqr\n",
    "    upper_bound = q3 + 1 * iqr\n",
    "    outliers = df[(df[col] < lower_bound) | (df[col] > upper_bound)][col]\n",
    "    print(f\"{col} outliers:\")\n",
    "    print(outliers)"
   ]
  },
  {
   "cell_type": "code",
   "execution_count": null,
   "metadata": {},
   "outputs": [],
   "source": [
    "# calculate median for each column\n",
    "medians = df[num].median()"
   ]
  },
  {
   "attachments": {},
   "cell_type": "markdown",
   "metadata": {},
   "source": [
    "### Handling Outliers"
   ]
  },
  {
   "cell_type": "code",
   "execution_count": null,
   "metadata": {},
   "outputs": [],
   "source": [
    "# replace outliers with median\n",
    "for col in num:\n",
    "    q1 = df[col].quantile(0.15)\n",
    "    q3 = df[col].quantile(0.85)\n",
    "    iqr = q3 - q1\n",
    "    lower_bound = q1 - 1.5 * iqr\n",
    "    upper_bound = q3 + 1.5 * iqr\n",
    "    df[col] = df[col].apply(lambda x: medians[col] if (x < lower_bound or x > upper_bound) else x)\n"
   ]
  },
  {
   "attachments": {},
   "cell_type": "markdown",
   "metadata": {},
   "source": [
    "### Numerical column after handling outliers"
   ]
  },
  {
   "cell_type": "code",
   "execution_count": null,
   "metadata": {},
   "outputs": [],
   "source": [
    "# create boxplots for each numerical column after handling outliers\n",
    "for col in num:\n",
    "    fig, ax = plt.subplots()\n",
    "    sns.boxplot(data=df, x=col, ax=ax)\n",
    "    ax.set_title(f\"Boxplot of {col}\")\n",
    "    plt.show()"
   ]
  },
  {
   "cell_type": "code",
   "execution_count": null,
   "metadata": {},
   "outputs": [],
   "source": [
    "#list of all the numeric columns\n",
    "num = df.select_dtypes('number').columns.to_list()\n",
    "#list of all the categoric columns\n",
    "cat = df.select_dtypes('object').columns.to_list()"
   ]
  },
  {
   "cell_type": "code",
   "execution_count": null,
   "metadata": {},
   "outputs": [],
   "source": [
    "Num_Cols=df[num]"
   ]
  },
  {
   "cell_type": "code",
   "execution_count": null,
   "metadata": {},
   "outputs": [],
   "source": [
    "cat_label=[\n",
    " 'FirstTimeHomebuyer',\n",
    " 'Occupancy',\n",
    " 'Channel',\n",
    " 'PPM',\n",
    " 'LoanPurpose',\n",
    " 'NumBorrowers']"
   ]
  },
  {
   "cell_type": "code",
   "execution_count": null,
   "metadata": {},
   "outputs": [],
   "source": [
    "cat_label=df[cat_label]"
   ]
  },
  {
   "attachments": {},
   "cell_type": "markdown",
   "metadata": {},
   "source": [
    "#### Label Encoding"
   ]
  },
  {
   "cell_type": "code",
   "execution_count": null,
   "metadata": {},
   "outputs": [],
   "source": [
    "cat_label.apply(lambda x: x.nunique()) #checking the number of unique values in each column"
   ]
  },
  {
   "cell_type": "code",
   "execution_count": null,
   "metadata": {},
   "outputs": [],
   "source": [
    "le = LabelEncoder()\n",
    "Label = [\n",
    " 'FirstTimeHomebuyer',\n",
    " 'Occupancy',\n",
    " 'Channel',\n",
    " 'PPM',\n",
    " 'LoanPurpose',\n",
    " 'NumBorrowers']\n",
    "\n",
    "for i in Label:\n",
    "    df[i] = le.fit_transform(df[i])\n",
    "    \n",
    "df.tail()"
   ]
  },
  {
   "cell_type": "code",
   "execution_count": null,
   "metadata": {},
   "outputs": [],
   "source": [
    "for variable in ['Location','PropertyType','ServicerName']:\n",
    "    count_map=df[variable].value_counts().to_dict() ## Calculating the number of observations present in each feature\n",
    "    df[variable]=df[variable].map(count_map) ## Encoding the variables with the count of their observations"
   ]
  },
  {
   "cell_type": "code",
   "execution_count": null,
   "metadata": {},
   "outputs": [],
   "source": [
    "for var in ['CreditScore','DTI','LTV','OrigUPB','OrigLoanTerm','MonthsInRepayment','PrepaymentRisk']:\n",
    "    df[var]=df[var].round(3).astype(int) ## rounding off the values to 3 decimal point to simplify the process"
   ]
  },
  {
   "cell_type": "code",
   "execution_count": null,
   "metadata": {},
   "outputs": [],
   "source": [
    "num = df.select_dtypes('number').columns.to_list()"
   ]
  },
  {
   "cell_type": "code",
   "execution_count": null,
   "metadata": {},
   "outputs": [],
   "source": [
    "num"
   ]
  },
  {
   "attachments": {},
   "cell_type": "markdown",
   "metadata": {},
   "source": [
    "### Dropping irrelevant features"
   ]
  },
  {
   "cell_type": "code",
   "execution_count": null,
   "metadata": {},
   "outputs": [],
   "source": [
    "df.drop(['SellerName','ProductType','LoanSeqNum'],axis=1,inplace=True) ## Dropping the irrelevant features"
   ]
  },
  {
   "cell_type": "code",
   "execution_count": null,
   "metadata": {},
   "outputs": [],
   "source": [
    "df1=df.copy()"
   ]
  },
  {
   "attachments": {},
   "cell_type": "markdown",
   "metadata": {},
   "source": [
    "### Correlation"
   ]
  },
  {
   "cell_type": "code",
   "execution_count": null,
   "metadata": {},
   "outputs": [],
   "source": [
    "corr=df1.corr()\n",
    "plt.figure(figsize=(20,10))\n",
    "sns.heatmap(corr, annot=True, cmap='coolwarm', )\n",
    "plt.show()"
   ]
  },
  {
   "cell_type": "code",
   "execution_count": null,
   "metadata": {},
   "outputs": [],
   "source": [
    "# Step 2: Correlation analysis\n",
    "ever_delinquent_corr = corr['EverDelinquent'].abs().sort_values(ascending=False)\n",
    "# Select variables with correlation above a threshold\n",
    "significant_corr_vars = ever_delinquent_corr[ever_delinquent_corr > 0.02].index.tolist()"
   ]
  },
  {
   "cell_type": "code",
   "execution_count": null,
   "metadata": {},
   "outputs": [],
   "source": [
    "significant_corr_vars"
   ]
  },
  {
   "cell_type": "code",
   "execution_count": null,
   "metadata": {},
   "outputs": [],
   "source": [
    "df1.head()"
   ]
  },
  {
   "cell_type": "code",
   "execution_count": null,
   "metadata": {},
   "outputs": [],
   "source": [
    "X=df1.drop('EverDelinquent',axis=1) ## independent variables\n",
    "y=df1['EverDelinquent'] ## dependent variable\n",
    "\n",
    "X_train,X_test,y_train,y_test=train_test_split(X,y,test_size=0.2,random_state=0) ## 20% data is for test and 80% goes to\n",
    "## training\n",
    "X_train.shape,X_test.shape\n"
   ]
  },
  {
   "cell_type": "code",
   "execution_count": null,
   "metadata": {},
   "outputs": [],
   "source": [
    "scaler=StandardScaler() ## object for standardscaler\n",
    "X_train_sc=scaler.fit_transform(X_train) ## fitting the standardscaler object in train set\n",
    "X_test_sc=scaler.transform(X_test) "
   ]
  },
  {
   "attachments": {},
   "cell_type": "markdown",
   "metadata": {},
   "source": [
    "### PCA"
   ]
  },
  {
   "cell_type": "code",
   "execution_count": null,
   "metadata": {},
   "outputs": [],
   "source": [
    "from sklearn.decomposition import PCA\n",
    "pca=PCA(n_components=10)"
   ]
  },
  {
   "cell_type": "code",
   "execution_count": null,
   "metadata": {},
   "outputs": [],
   "source": [
    "## fitting our data into the dimensional space \n",
    "X_train_trf=pca.fit_transform(X_train_sc)\n",
    "X_test_trf=pca.transform(X_test_sc)"
   ]
  },
  {
   "cell_type": "code",
   "execution_count": null,
   "metadata": {},
   "outputs": [],
   "source": [
    "pca.explained_variance_"
   ]
  },
  {
   "cell_type": "code",
   "execution_count": null,
   "metadata": {},
   "outputs": [],
   "source": [
    "pca.components_"
   ]
  },
  {
   "cell_type": "code",
   "execution_count": null,
   "metadata": {},
   "outputs": [],
   "source": [
    "pca.explained_variance_ratio_ "
   ]
  },
  {
   "cell_type": "code",
   "execution_count": null,
   "metadata": {},
   "outputs": [],
   "source": [
    "## Finding the optimum number of components\n",
    "pca=PCA(n_components=None) ## Principal components equal to the number of variables in the data\n",
    "X_train_trf=pca.fit_transform(X_train_sc)\n",
    "X_test_trf=pca.transform(X_test_sc)"
   ]
  },
  {
   "cell_type": "code",
   "execution_count": null,
   "metadata": {},
   "outputs": [],
   "source": [
    "X_train_trf"
   ]
  },
  {
   "cell_type": "code",
   "execution_count": null,
   "metadata": {},
   "outputs": [],
   "source": [
    "\n",
    "pca.explained_variance_.shape"
   ]
  },
  {
   "cell_type": "code",
   "execution_count": null,
   "metadata": {},
   "outputs": [],
   "source": [
    "pca.components_.shape "
   ]
  },
  {
   "cell_type": "code",
   "execution_count": null,
   "metadata": {},
   "outputs": [],
   "source": [
    "pca.explained_variance_ratio_"
   ]
  },
  {
   "cell_type": "code",
   "execution_count": null,
   "metadata": {},
   "outputs": [],
   "source": [
    "\n",
    "np.cumsum(pca.explained_variance_ratio_)"
   ]
  },
  {
   "cell_type": "code",
   "execution_count": null,
   "metadata": {},
   "outputs": [],
   "source": [
    "plt.plot(np.cumsum(pca.explained_variance_ratio_)) ## plotting the cumulative distribution function\n",
    "plt.xlabel('No of components')\n",
    "plt.ylabel('% of variance explained')"
   ]
  },
  {
   "cell_type": "code",
   "execution_count": null,
   "metadata": {},
   "outputs": [],
   "source": [
    "from sklearn.feature_selection import SelectKBest, f_classif\n",
    "# Step 1: Instantiate the SelectKBest class with the desired score function\n",
    "k = 15  # Number of top features to select\n",
    "selector = SelectKBest(score_func=f_classif, k=k)\n",
    "\n",
    "# Step 2: Apply SelectKBest to the data\n",
    "X_new = selector.fit_transform(X, y)\n",
    "\n",
    "# Step 3: Get the indices of the selected features\n",
    "selected_feature_indices = selector.get_support(indices=True)\n",
    "\n",
    "# Step 4: Get the names of the selected features\n",
    "selected_features = X.columns[selected_feature_indices]\n",
    "\n",
    "print(\"Top 15 features:\")\n",
    "print(selected_features)"
   ]
  },
  {
   "cell_type": "code",
   "execution_count": null,
   "metadata": {},
   "outputs": [],
   "source": [
    "selected_features"
   ]
  },
  {
   "attachments": {},
   "cell_type": "markdown",
   "metadata": {},
   "source": [
    "### Mutual Information"
   ]
  },
  {
   "cell_type": "code",
   "execution_count": null,
   "metadata": {},
   "outputs": [],
   "source": [
    "# Mutual Information\n",
    "from sklearn.feature_selection import SelectKBest, mutual_info_classif\n",
    "mi_selector = SelectKBest(score_func=mutual_info_classif, k=15)  # Select top 15 features\n",
    "X_mi = mi_selector.fit_transform(X, y)\n",
    "mi_scores = mi_selector.scores_\n",
    "mi_features = X.columns[mi_selector.get_support()].tolist()"
   ]
  },
  {
   "cell_type": "code",
   "execution_count": null,
   "metadata": {},
   "outputs": [],
   "source": [
    "mi_features"
   ]
  },
  {
   "attachments": {},
   "cell_type": "markdown",
   "metadata": {},
   "source": [
    "### Model Building using Top 15 features obtained from PCA"
   ]
  },
  {
   "cell_type": "code",
   "execution_count": null,
   "metadata": {},
   "outputs": [],
   "source": [
    "X_train,X_test,y_train,y_test=train_test_split(X_new,y,test_size=0.2,random_state=0) ## 20% data is for test and 80% goes to"
   ]
  },
  {
   "attachments": {},
   "cell_type": "markdown",
   "metadata": {},
   "source": [
    "### Gradient Boosting"
   ]
  },
  {
   "cell_type": "code",
   "execution_count": null,
   "metadata": {},
   "outputs": [],
   "source": [
    "# Train Gradient Boosting model\n",
    "gb_model = GradientBoostingClassifier()\n",
    "gb_model.fit(X_train, y_train)\n",
    "\n",
    "# Make predictions using Gradient Boosting model\n",
    "gb_preds = gb_model.predict(X_test)\n",
    "\n",
    "# Print classification report and accuracy for Gradient Boosting model\n",
    "print(\"Gradient Boosting Classifier:\")\n",
    "print(\"Classification Report:\")\n",
    "print(classification_report(y_test, gb_preds))\n",
    "print(\"Accuracy:\", accuracy_score(y_test, gb_preds)*100)"
   ]
  },
  {
   "cell_type": "code",
   "execution_count": null,
   "metadata": {},
   "outputs": [],
   "source": [
    "# Print confusion matrix for Gradient Boosting model\n",
    "print(\"Gradient Boosting Classifier:\")\n",
    "print(\"Confusion Matrix:\")\n",
    "print(confusion_matrix(y_test, gb_preds))\n",
    "print()"
   ]
  },
  {
   "attachments": {},
   "cell_type": "markdown",
   "metadata": {},
   "source": [
    "### XGBoost"
   ]
  },
  {
   "cell_type": "code",
   "execution_count": null,
   "metadata": {},
   "outputs": [],
   "source": [
    "# Train XGBoost model\n",
    "xgb_model = xgb.XGBClassifier()\n",
    "xgb_model.fit(X_train, y_train)\n",
    "\n",
    "# Make predictions using XGBoost model\n",
    "xgb_preds = xgb_model.predict(X_test)\n",
    "\n",
    "# Print classification report and accuracy for XGBoost model\n",
    "print(\"XGBoost Classifier:\")\n",
    "print(\"Classification Report:\")\n",
    "print(classification_report(y_test, xgb_preds))\n",
    "print(\"Accuracy:\", accuracy_score(y_test, xgb_preds)*100)"
   ]
  },
  {
   "cell_type": "code",
   "execution_count": null,
   "metadata": {},
   "outputs": [],
   "source": [
    "# Print confusion matrix for XGBoost model\n",
    "print(\"XGBoost Classifier:\")\n",
    "print(\"Confusion Matrix:\")\n",
    "print(confusion_matrix(y_test, xgb_preds))\n",
    "print()"
   ]
  },
  {
   "attachments": {},
   "cell_type": "markdown",
   "metadata": {},
   "source": [
    "### Model Building using Top 15 features obtained from Mutual Information"
   ]
  },
  {
   "cell_type": "code",
   "execution_count": null,
   "metadata": {},
   "outputs": [],
   "source": [
    "X_train_mi,X_test_mi,y_train_mi,y_test_mi=train_test_split(X_mi,y,test_size=0.2,random_state=0) ## 20% data is for test and 80% goes to"
   ]
  },
  {
   "attachments": {},
   "cell_type": "markdown",
   "metadata": {},
   "source": [
    "### Gradient Boosting"
   ]
  },
  {
   "cell_type": "code",
   "execution_count": null,
   "metadata": {},
   "outputs": [],
   "source": [
    "# Train Gradient Boosting model\n",
    "gb_model = GradientBoostingClassifier()\n",
    "gb_model.fit(X_train_mi, y_train_mi)\n",
    "\n",
    "# Make predictions using Gradient Boosting model\n",
    "gb_preds = gb_model.predict(X_test_mi)\n",
    "\n",
    "# Print classification report and accuracy for Gradient Boosting model\n",
    "print(\"Gradient Boosting Classifier:\")\n",
    "print(\"Classification Report:\")\n",
    "print(classification_report(y_test_mi, gb_preds))\n",
    "print(\"Accuracy:\", accuracy_score(y_test_mi, gb_preds)*100)"
   ]
  },
  {
   "cell_type": "code",
   "execution_count": null,
   "metadata": {},
   "outputs": [],
   "source": [
    "# Print confusion matrix for Gradient Boosting model\n",
    "print(\"Gradient Boosting Classifier:\")\n",
    "print(\"Confusion Matrix:\")\n",
    "print(confusion_matrix(y_test_mi, gb_preds))\n",
    "print()"
   ]
  },
  {
   "attachments": {},
   "cell_type": "markdown",
   "metadata": {},
   "source": [
    "### XGBoost"
   ]
  },
  {
   "cell_type": "code",
   "execution_count": null,
   "metadata": {},
   "outputs": [],
   "source": [
    "# Train XGBoost model\n",
    "xgb_model = xgb.XGBClassifier()\n",
    "xgb_model.fit(X_train_mi, y_train_mi)\n",
    "\n",
    "# Make predictions using XGBoost model\n",
    "xgb_preds = xgb_model.predict(X_test_mi)\n",
    "\n",
    "# Print classification report and accuracy for XGBoost model\n",
    "print(\"XGBoost Classifier:\")\n",
    "print(\"Classification Report:\")\n",
    "print(classification_report(y_test_mi, xgb_preds))\n",
    "print(\"Accuracy:\", accuracy_score(y_test_mi, xgb_preds)*100)"
   ]
  },
  {
   "cell_type": "code",
   "execution_count": null,
   "metadata": {},
   "outputs": [],
   "source": [
    "# Print confusion matrix for XGBoost model\n",
    "print(\"XGBoost Classifier:\")\n",
    "print(\"Confusion Matrix:\")\n",
    "print(confusion_matrix(y_test_mi, xgb_preds))\n",
    "print()"
   ]
  },
  {
   "attachments": {},
   "cell_type": "markdown",
   "metadata": {},
   "source": [
    "## Prepayment Risk Prediction"
   ]
  },
  {
   "cell_type": "code",
   "execution_count": 62,
   "metadata": {},
   "outputs": [],
   "source": [
    "data=pd.read_csv(\"./LoanExport/LoanExport.csv\",low_memory=False)"
   ]
  },
  {
   "cell_type": "code",
   "execution_count": 63,
   "metadata": {},
   "outputs": [
    {
     "data": {
      "text/html": [
       "<div>\n",
       "<style scoped>\n",
       "    .dataframe tbody tr th:only-of-type {\n",
       "        vertical-align: middle;\n",
       "    }\n",
       "\n",
       "    .dataframe tbody tr th {\n",
       "        vertical-align: top;\n",
       "    }\n",
       "\n",
       "    .dataframe thead th {\n",
       "        text-align: right;\n",
       "    }\n",
       "</style>\n",
       "<table border=\"1\" class=\"dataframe\">\n",
       "  <thead>\n",
       "    <tr style=\"text-align: right;\">\n",
       "      <th></th>\n",
       "      <th>CreditScore</th>\n",
       "      <th>FirstPaymentDate</th>\n",
       "      <th>FirstTimeHomebuyer</th>\n",
       "      <th>MaturityDate</th>\n",
       "      <th>MSA</th>\n",
       "      <th>MIP</th>\n",
       "      <th>Units</th>\n",
       "      <th>Occupancy</th>\n",
       "      <th>OCLTV</th>\n",
       "      <th>DTI</th>\n",
       "      <th>...</th>\n",
       "      <th>PostalCode</th>\n",
       "      <th>LoanSeqNum</th>\n",
       "      <th>LoanPurpose</th>\n",
       "      <th>OrigLoanTerm</th>\n",
       "      <th>NumBorrowers</th>\n",
       "      <th>SellerName</th>\n",
       "      <th>ServicerName</th>\n",
       "      <th>EverDelinquent</th>\n",
       "      <th>MonthsDelinquent</th>\n",
       "      <th>MonthsInRepayment</th>\n",
       "    </tr>\n",
       "  </thead>\n",
       "  <tbody>\n",
       "    <tr>\n",
       "      <th>0</th>\n",
       "      <td>0</td>\n",
       "      <td>199902</td>\n",
       "      <td>N</td>\n",
       "      <td>202901</td>\n",
       "      <td>16974</td>\n",
       "      <td>25</td>\n",
       "      <td>1</td>\n",
       "      <td>O</td>\n",
       "      <td>89</td>\n",
       "      <td>27</td>\n",
       "      <td>...</td>\n",
       "      <td>60400</td>\n",
       "      <td>F199Q1268030</td>\n",
       "      <td>P</td>\n",
       "      <td>360</td>\n",
       "      <td>2</td>\n",
       "      <td>FL</td>\n",
       "      <td>WASHINGTONMUTUALBANK</td>\n",
       "      <td>0</td>\n",
       "      <td>0</td>\n",
       "      <td>52</td>\n",
       "    </tr>\n",
       "    <tr>\n",
       "      <th>1</th>\n",
       "      <td>0</td>\n",
       "      <td>199902</td>\n",
       "      <td>N</td>\n",
       "      <td>202901</td>\n",
       "      <td>19740</td>\n",
       "      <td>0</td>\n",
       "      <td>1</td>\n",
       "      <td>O</td>\n",
       "      <td>73</td>\n",
       "      <td>17</td>\n",
       "      <td>...</td>\n",
       "      <td>80200</td>\n",
       "      <td>F199Q1015092</td>\n",
       "      <td>N</td>\n",
       "      <td>360</td>\n",
       "      <td>1</td>\n",
       "      <td>FT</td>\n",
       "      <td>CHASEHOMEFINANCELLC</td>\n",
       "      <td>0</td>\n",
       "      <td>0</td>\n",
       "      <td>144</td>\n",
       "    </tr>\n",
       "    <tr>\n",
       "      <th>2</th>\n",
       "      <td>0</td>\n",
       "      <td>199902</td>\n",
       "      <td>N</td>\n",
       "      <td>202901</td>\n",
       "      <td>29940</td>\n",
       "      <td>0</td>\n",
       "      <td>1</td>\n",
       "      <td>O</td>\n",
       "      <td>75</td>\n",
       "      <td>16</td>\n",
       "      <td>...</td>\n",
       "      <td>66000</td>\n",
       "      <td>F199Q1266886</td>\n",
       "      <td>N</td>\n",
       "      <td>360</td>\n",
       "      <td>2</td>\n",
       "      <td>FL</td>\n",
       "      <td>WASHINGTONMUTUALBANK</td>\n",
       "      <td>0</td>\n",
       "      <td>0</td>\n",
       "      <td>67</td>\n",
       "    </tr>\n",
       "    <tr>\n",
       "      <th>3</th>\n",
       "      <td>0</td>\n",
       "      <td>199902</td>\n",
       "      <td>N</td>\n",
       "      <td>202901</td>\n",
       "      <td>31084</td>\n",
       "      <td>0</td>\n",
       "      <td>1</td>\n",
       "      <td>O</td>\n",
       "      <td>76</td>\n",
       "      <td>14</td>\n",
       "      <td>...</td>\n",
       "      <td>90700</td>\n",
       "      <td>F199Q1178167</td>\n",
       "      <td>N</td>\n",
       "      <td>360</td>\n",
       "      <td>2</td>\n",
       "      <td>GM</td>\n",
       "      <td>GMACMTGECORP</td>\n",
       "      <td>0</td>\n",
       "      <td>0</td>\n",
       "      <td>35</td>\n",
       "    </tr>\n",
       "    <tr>\n",
       "      <th>4</th>\n",
       "      <td>0</td>\n",
       "      <td>199902</td>\n",
       "      <td>N</td>\n",
       "      <td>202901</td>\n",
       "      <td>35644</td>\n",
       "      <td>0</td>\n",
       "      <td>1</td>\n",
       "      <td>O</td>\n",
       "      <td>78</td>\n",
       "      <td>18</td>\n",
       "      <td>...</td>\n",
       "      <td>7600</td>\n",
       "      <td>F199Q1178517</td>\n",
       "      <td>N</td>\n",
       "      <td>360</td>\n",
       "      <td>2</td>\n",
       "      <td>GM</td>\n",
       "      <td>GMACMTGECORP</td>\n",
       "      <td>0</td>\n",
       "      <td>0</td>\n",
       "      <td>54</td>\n",
       "    </tr>\n",
       "  </tbody>\n",
       "</table>\n",
       "<p>5 rows × 28 columns</p>\n",
       "</div>"
      ],
      "text/plain": [
       "   CreditScore  FirstPaymentDate FirstTimeHomebuyer  MaturityDate    MSA  MIP   \n",
       "0            0            199902                  N        202901  16974   25  \\\n",
       "1            0            199902                  N        202901  19740    0   \n",
       "2            0            199902                  N        202901  29940    0   \n",
       "3            0            199902                  N        202901  31084    0   \n",
       "4            0            199902                  N        202901  35644    0   \n",
       "\n",
       "   Units Occupancy  OCLTV  DTI  ...  PostalCode    LoanSeqNum  LoanPurpose   \n",
       "0      1         O     89   27  ...       60400  F199Q1268030            P  \\\n",
       "1      1         O     73   17  ...       80200  F199Q1015092            N   \n",
       "2      1         O     75   16  ...       66000  F199Q1266886            N   \n",
       "3      1         O     76   14  ...       90700  F199Q1178167            N   \n",
       "4      1         O     78   18  ...        7600  F199Q1178517            N   \n",
       "\n",
       "  OrigLoanTerm NumBorrowers SellerName          ServicerName EverDelinquent   \n",
       "0          360            2         FL  WASHINGTONMUTUALBANK              0  \\\n",
       "1          360            1         FT  CHASEHOMEFINANCELLC               0   \n",
       "2          360            2         FL  WASHINGTONMUTUALBANK              0   \n",
       "3          360            2         GM  GMACMTGECORP                      0   \n",
       "4          360            2         GM  GMACMTGECORP                      0   \n",
       "\n",
       "  MonthsDelinquent MonthsInRepayment  \n",
       "0                0                52  \n",
       "1                0               144  \n",
       "2                0                67  \n",
       "3                0                35  \n",
       "4                0                54  \n",
       "\n",
       "[5 rows x 28 columns]"
      ]
     },
     "execution_count": 63,
     "metadata": {},
     "output_type": "execute_result"
    }
   ],
   "source": [
    "data.head()"
   ]
  },
  {
   "cell_type": "code",
   "execution_count": 64,
   "metadata": {},
   "outputs": [],
   "source": [
    "data['PrepaymentRisk'] = data['CreditScore'] * data['DTI']\n",
    "\n",
    "# Scale the prepayment risk values between 0 and 1\n",
    "scaler = MinMaxScaler()\n",
    "data['PrepaymentRisk'] = scaler.fit_transform(data[['PrepaymentRisk']])"
   ]
  },
  {
   "cell_type": "code",
   "execution_count": 65,
   "metadata": {},
   "outputs": [],
   "source": [
    "for var in ['MSA','PropertyType','NumBorrowers']: ## Loop containing variables used for handling nan values\n",
    "    data[var]=data[var].str.strip() ## Removing the white space using str.strip()\n",
    "    data[var]=data[var].replace('X','Other') ## Replacing nan values with a category \"Other\""
   ]
  },
  {
   "cell_type": "code",
   "execution_count": 66,
   "metadata": {},
   "outputs": [],
   "source": [
    "for var in ['FirstTimeHomebuyer','SellerName']:\n",
    "    mode=data[var].mode()\n",
    "    data[var]=data[var].fillna(mode)[0]"
   ]
  },
  {
   "cell_type": "code",
   "execution_count": 67,
   "metadata": {},
   "outputs": [],
   "source": [
    "data['PPM']=data['PPM'].replace('X','Other') ## Replacing nan values with \"Other\"\n",
    "data['PostalCode']=data['PostalCode'].str.strip()\n",
    "data['PostalCode']=data['PostalCode'].replace('X',np.nan)\n",
    "data['PostalCode']=data['PostalCode'].fillna(mode)[0]"
   ]
  },
  {
   "cell_type": "code",
   "execution_count": 68,
   "metadata": {},
   "outputs": [
    {
     "data": {
      "text/plain": [
       "CreditScore           0\n",
       "FirstPaymentDate      0\n",
       "FirstTimeHomebuyer    0\n",
       "MaturityDate          0\n",
       "MSA                   0\n",
       "MIP                   0\n",
       "Units                 0\n",
       "Occupancy             0\n",
       "OCLTV                 0\n",
       "DTI                   0\n",
       "OrigUPB               0\n",
       "LTV                   0\n",
       "OrigInterestRate      0\n",
       "Channel               0\n",
       "PPM                   0\n",
       "ProductType           0\n",
       "PropertyState         0\n",
       "PropertyType          0\n",
       "PostalCode            0\n",
       "LoanSeqNum            0\n",
       "LoanPurpose           0\n",
       "OrigLoanTerm          0\n",
       "NumBorrowers          0\n",
       "SellerName            0\n",
       "ServicerName          0\n",
       "EverDelinquent        0\n",
       "MonthsDelinquent      0\n",
       "MonthsInRepayment     0\n",
       "PrepaymentRisk        0\n",
       "dtype: int64"
      ]
     },
     "execution_count": 68,
     "metadata": {},
     "output_type": "execute_result"
    }
   ],
   "source": [
    "data.isnull().sum()"
   ]
  },
  {
   "cell_type": "code",
   "execution_count": 69,
   "metadata": {},
   "outputs": [],
   "source": [
    "# Function for capping outliers with 85th percentile and 15th percentile\n",
    "def cap_outliers(data,variable):\n",
    "    \n",
    "    upper_limit=data[variable].quantile(0.85)\n",
    "    lower_limit=data[variable].quantile(0.15)\n",
    "    data[variable]=np.where(data[variable]>=upper_limit,upper_limit,\n",
    "                         np.where(data[variable]<=lower_limit,lower_limit,\n",
    "                                 data[variable])) ## We want values larger than upper limit and lower than lower limit"
   ]
  },
  {
   "cell_type": "code",
   "execution_count": 70,
   "metadata": {},
   "outputs": [],
   "source": [
    "variables=['CreditScore','FirstPaymentDate','MaturityDate','LTV','OCLTV','OrigUPB','OrigInterestRate','OrigLoanTerm',\n",
    "          'MonthsDelinquent','MonthsInRepayment']\n",
    "\n",
    "for variable in variables:\n",
    "    cap_outliers(data,variable) ## Loop to cap outliers for the variables in the list"
   ]
  },
  {
   "cell_type": "code",
   "execution_count": 71,
   "metadata": {},
   "outputs": [],
   "source": [
    "## Function to plot distribution after removing outliers\n",
    "def distribution_plot(data,variable):\n",
    "    plt.figure(figsize=(8,6))\n",
    "    \n",
    "    plt.subplot(1,2,1)\n",
    "    data.boxplot(column=variable)\n",
    "    plt.title('Boxplot after handling outliers')\n",
    "    \n",
    "    plt.subplot(1,2,2)\n",
    "    sns.distplot(data[variable])\n",
    "    plt.title('Distribution after handling outliers')\n",
    "    \n",
    "    plt.show()"
   ]
  },
  {
   "cell_type": "code",
   "execution_count": 72,
   "metadata": {},
   "outputs": [
    {
     "data": {
      "text/html": [
       "<div>\n",
       "<style scoped>\n",
       "    .dataframe tbody tr th:only-of-type {\n",
       "        vertical-align: middle;\n",
       "    }\n",
       "\n",
       "    .dataframe tbody tr th {\n",
       "        vertical-align: top;\n",
       "    }\n",
       "\n",
       "    .dataframe thead th {\n",
       "        text-align: right;\n",
       "    }\n",
       "</style>\n",
       "<table border=\"1\" class=\"dataframe\">\n",
       "  <thead>\n",
       "    <tr style=\"text-align: right;\">\n",
       "      <th></th>\n",
       "      <th>CreditScore</th>\n",
       "      <th>FirstPaymentDate</th>\n",
       "      <th>FirstTimeHomebuyer</th>\n",
       "      <th>MaturityDate</th>\n",
       "      <th>MSA</th>\n",
       "      <th>MIP</th>\n",
       "      <th>Units</th>\n",
       "      <th>Occupancy</th>\n",
       "      <th>OCLTV</th>\n",
       "      <th>DTI</th>\n",
       "      <th>...</th>\n",
       "      <th>LoanSeqNum</th>\n",
       "      <th>LoanPurpose</th>\n",
       "      <th>OrigLoanTerm</th>\n",
       "      <th>NumBorrowers</th>\n",
       "      <th>SellerName</th>\n",
       "      <th>ServicerName</th>\n",
       "      <th>EverDelinquent</th>\n",
       "      <th>MonthsDelinquent</th>\n",
       "      <th>MonthsInRepayment</th>\n",
       "      <th>PrepaymentRisk</th>\n",
       "    </tr>\n",
       "  </thead>\n",
       "  <tbody>\n",
       "    <tr>\n",
       "      <th>291446</th>\n",
       "      <td>766.0</td>\n",
       "      <td>199903.0</td>\n",
       "      <td>0</td>\n",
       "      <td>202902.0</td>\n",
       "      <td>37964</td>\n",
       "      <td>0</td>\n",
       "      <td>1</td>\n",
       "      <td>1</td>\n",
       "      <td>62.0</td>\n",
       "      <td>32</td>\n",
       "      <td>...</td>\n",
       "      <td>F199Q1220925</td>\n",
       "      <td>1</td>\n",
       "      <td>360.0</td>\n",
       "      <td>1</td>\n",
       "      <td>FL</td>\n",
       "      <td>Other servicers</td>\n",
       "      <td>0</td>\n",
       "      <td>0.0</td>\n",
       "      <td>27.0</td>\n",
       "      <td>0.508543</td>\n",
       "    </tr>\n",
       "    <tr>\n",
       "      <th>291447</th>\n",
       "      <td>766.0</td>\n",
       "      <td>199905.0</td>\n",
       "      <td>0</td>\n",
       "      <td>202904.0</td>\n",
       "      <td>35644</td>\n",
       "      <td>0</td>\n",
       "      <td>1</td>\n",
       "      <td>1</td>\n",
       "      <td>73.0</td>\n",
       "      <td>0</td>\n",
       "      <td>...</td>\n",
       "      <td>F199Q1401332</td>\n",
       "      <td>2</td>\n",
       "      <td>360.0</td>\n",
       "      <td>1</td>\n",
       "      <td>FL</td>\n",
       "      <td>Other servicers</td>\n",
       "      <td>0</td>\n",
       "      <td>0.0</td>\n",
       "      <td>53.0</td>\n",
       "      <td>0.000000</td>\n",
       "    </tr>\n",
       "    <tr>\n",
       "      <th>291448</th>\n",
       "      <td>766.0</td>\n",
       "      <td>199905.0</td>\n",
       "      <td>0</td>\n",
       "      <td>202904.0</td>\n",
       "      <td>42044</td>\n",
       "      <td>0</td>\n",
       "      <td>1</td>\n",
       "      <td>1</td>\n",
       "      <td>73.0</td>\n",
       "      <td>31</td>\n",
       "      <td>...</td>\n",
       "      <td>F199Q1401282</td>\n",
       "      <td>1</td>\n",
       "      <td>360.0</td>\n",
       "      <td>0</td>\n",
       "      <td>FL</td>\n",
       "      <td>Other servicers</td>\n",
       "      <td>0</td>\n",
       "      <td>0.0</td>\n",
       "      <td>38.0</td>\n",
       "      <td>0.493238</td>\n",
       "    </tr>\n",
       "    <tr>\n",
       "      <th>291449</th>\n",
       "      <td>766.0</td>\n",
       "      <td>199904.0</td>\n",
       "      <td>0</td>\n",
       "      <td>202903.0</td>\n",
       "      <td>37964</td>\n",
       "      <td>0</td>\n",
       "      <td>1</td>\n",
       "      <td>0</td>\n",
       "      <td>80.0</td>\n",
       "      <td>54</td>\n",
       "      <td>...</td>\n",
       "      <td>F199Q1220924</td>\n",
       "      <td>2</td>\n",
       "      <td>360.0</td>\n",
       "      <td>1</td>\n",
       "      <td>FL</td>\n",
       "      <td>Other servicers</td>\n",
       "      <td>0</td>\n",
       "      <td>0.0</td>\n",
       "      <td>32.0</td>\n",
       "      <td>0.864303</td>\n",
       "    </tr>\n",
       "    <tr>\n",
       "      <th>291450</th>\n",
       "      <td>766.0</td>\n",
       "      <td>199903.0</td>\n",
       "      <td>0</td>\n",
       "      <td>202902.0</td>\n",
       "      <td>37964</td>\n",
       "      <td>0</td>\n",
       "      <td>1</td>\n",
       "      <td>1</td>\n",
       "      <td>62.0</td>\n",
       "      <td>29</td>\n",
       "      <td>...</td>\n",
       "      <td>F199Q1220923</td>\n",
       "      <td>2</td>\n",
       "      <td>360.0</td>\n",
       "      <td>1</td>\n",
       "      <td>FL</td>\n",
       "      <td>Other servicers</td>\n",
       "      <td>0</td>\n",
       "      <td>0.0</td>\n",
       "      <td>29.0</td>\n",
       "      <td>0.466360</td>\n",
       "    </tr>\n",
       "  </tbody>\n",
       "</table>\n",
       "<p>5 rows × 29 columns</p>\n",
       "</div>"
      ],
      "text/plain": [
       "        CreditScore  FirstPaymentDate  FirstTimeHomebuyer  MaturityDate   \n",
       "291446        766.0          199903.0                   0      202902.0  \\\n",
       "291447        766.0          199905.0                   0      202904.0   \n",
       "291448        766.0          199905.0                   0      202904.0   \n",
       "291449        766.0          199904.0                   0      202903.0   \n",
       "291450        766.0          199903.0                   0      202902.0   \n",
       "\n",
       "          MSA  MIP  Units  Occupancy  OCLTV  DTI  ...    LoanSeqNum   \n",
       "291446  37964    0      1          1   62.0   32  ...  F199Q1220925  \\\n",
       "291447  35644    0      1          1   73.0    0  ...  F199Q1401332   \n",
       "291448  42044    0      1          1   73.0   31  ...  F199Q1401282   \n",
       "291449  37964    0      1          0   80.0   54  ...  F199Q1220924   \n",
       "291450  37964    0      1          1   62.0   29  ...  F199Q1220923   \n",
       "\n",
       "        LoanPurpose  OrigLoanTerm  NumBorrowers  SellerName   \n",
       "291446            1         360.0             1          FL  \\\n",
       "291447            2         360.0             1          FL   \n",
       "291448            1         360.0             0          FL   \n",
       "291449            2         360.0             1          FL   \n",
       "291450            2         360.0             1          FL   \n",
       "\n",
       "                ServicerName  EverDelinquent  MonthsDelinquent   \n",
       "291446  Other servicers                    0               0.0  \\\n",
       "291447  Other servicers                    0               0.0   \n",
       "291448  Other servicers                    0               0.0   \n",
       "291449  Other servicers                    0               0.0   \n",
       "291450  Other servicers                    0               0.0   \n",
       "\n",
       "       MonthsInRepayment PrepaymentRisk  \n",
       "291446              27.0       0.508543  \n",
       "291447              53.0       0.000000  \n",
       "291448              38.0       0.493238  \n",
       "291449              32.0       0.864303  \n",
       "291450              29.0       0.466360  \n",
       "\n",
       "[5 rows x 29 columns]"
      ]
     },
     "execution_count": 72,
     "metadata": {},
     "output_type": "execute_result"
    }
   ],
   "source": [
    "le = LabelEncoder()\n",
    "Label = [\n",
    " 'FirstTimeHomebuyer',\n",
    " 'Occupancy',\n",
    " 'Channel',\n",
    " 'PPM',\n",
    " 'LoanPurpose',\n",
    " 'NumBorrowers',\n",
    " 'PropertyType',\n",
    " 'PropertyState'\n",
    " ]\n",
    "\n",
    "for i in Label:\n",
    "    data[i] = le.fit_transform(data[i])\n",
    "    \n",
    "data.tail()"
   ]
  },
  {
   "cell_type": "code",
   "execution_count": 73,
   "metadata": {},
   "outputs": [],
   "source": [
    "for var in ['ServicerName','MSA']:\n",
    "    frequency_map=(data[var].value_counts()/len(data)).to_dict() ## Calculating the frequency of the variables and convert them into\n",
    "    ## a dictionary\n",
    "    data[var]=data[var].map(frequency_map) ## Encoding with the frequency of the variables through loop"
   ]
  },
  {
   "cell_type": "code",
   "execution_count": 74,
   "metadata": {},
   "outputs": [],
   "source": [
    "data.drop(['SellerName','ProductType','LoanSeqNum'],axis=1,inplace=True) ## Dropping the irrelevant features"
   ]
  },
  {
   "cell_type": "code",
   "execution_count": 75,
   "metadata": {},
   "outputs": [],
   "source": [
    "for var in ['CreditScore','FirstPaymentDate','MaturityDate','LTV','OCLTV','OrigUPB','OrigLoanTerm','MonthsInRepayment']:\n",
    "    data[var]=data[var].round(1).astype(int) ## rounding off the values to 1 decimal point to simplify the process"
   ]
  },
  {
   "cell_type": "code",
   "execution_count": 76,
   "metadata": {},
   "outputs": [],
   "source": [
    "data['FirstPaymentDate']=data['FirstPaymentDate'].astype(str) ## converting the feature into string\n",
    "data['FirstPaymentDate']=pd.to_datetime(data['FirstPaymentDate'],format=\"%Y%m\") ## converting to appropriate date-time format \n",
    "## using year and month\n",
    "\n",
    "data['MaturityDate']=data['MaturityDate'].astype(str)\n",
    "data['MaturityDate']=pd.to_datetime(data['MaturityDate'],format=\"%Y%m\")"
   ]
  },
  {
   "cell_type": "code",
   "execution_count": 77,
   "metadata": {},
   "outputs": [],
   "source": [
    "data['FirstPaymentYear']=data['FirstPaymentDate'].dt.year ## extracting year from firstpaymentdate\n",
    "data['FirstPaymentMonth']=data['FirstPaymentDate'].dt.month ## extracting month from firstpaymentdate\n",
    "data['MaturityYear']=data['MaturityDate'].dt.year ## extracting year from maturitydate\n",
    "data['MaturityMonth']=data['MaturityDate'].dt.month ## extracting month from maturitydate"
   ]
  },
  {
   "cell_type": "code",
   "execution_count": 78,
   "metadata": {},
   "outputs": [],
   "source": [
    "data.drop(['FirstPaymentDate','MaturityDate'],axis=1,inplace=True)"
   ]
  },
  {
   "cell_type": "code",
   "execution_count": 79,
   "metadata": {},
   "outputs": [
    {
     "data": {
      "text/html": [
       "<div>\n",
       "<style scoped>\n",
       "    .dataframe tbody tr th:only-of-type {\n",
       "        vertical-align: middle;\n",
       "    }\n",
       "\n",
       "    .dataframe tbody tr th {\n",
       "        vertical-align: top;\n",
       "    }\n",
       "\n",
       "    .dataframe thead th {\n",
       "        text-align: right;\n",
       "    }\n",
       "</style>\n",
       "<table border=\"1\" class=\"dataframe\">\n",
       "  <thead>\n",
       "    <tr style=\"text-align: right;\">\n",
       "      <th></th>\n",
       "      <th>CreditScore</th>\n",
       "      <th>FirstTimeHomebuyer</th>\n",
       "      <th>MSA</th>\n",
       "      <th>MIP</th>\n",
       "      <th>Units</th>\n",
       "      <th>Occupancy</th>\n",
       "      <th>OCLTV</th>\n",
       "      <th>DTI</th>\n",
       "      <th>OrigUPB</th>\n",
       "      <th>LTV</th>\n",
       "      <th>...</th>\n",
       "      <th>NumBorrowers</th>\n",
       "      <th>ServicerName</th>\n",
       "      <th>EverDelinquent</th>\n",
       "      <th>MonthsDelinquent</th>\n",
       "      <th>MonthsInRepayment</th>\n",
       "      <th>PrepaymentRisk</th>\n",
       "      <th>FirstPaymentYear</th>\n",
       "      <th>FirstPaymentMonth</th>\n",
       "      <th>MaturityYear</th>\n",
       "      <th>MaturityMonth</th>\n",
       "    </tr>\n",
       "  </thead>\n",
       "  <tbody>\n",
       "    <tr>\n",
       "      <th>0</th>\n",
       "      <td>653</td>\n",
       "      <td>0</td>\n",
       "      <td>0.030094</td>\n",
       "      <td>25</td>\n",
       "      <td>1</td>\n",
       "      <td>1</td>\n",
       "      <td>89</td>\n",
       "      <td>27</td>\n",
       "      <td>117000</td>\n",
       "      <td>89</td>\n",
       "      <td>...</td>\n",
       "      <td>1</td>\n",
       "      <td>0.077632</td>\n",
       "      <td>0</td>\n",
       "      <td>0.0</td>\n",
       "      <td>52</td>\n",
       "      <td>0.0</td>\n",
       "      <td>1999</td>\n",
       "      <td>3</td>\n",
       "      <td>2029</td>\n",
       "      <td>2</td>\n",
       "    </tr>\n",
       "    <tr>\n",
       "      <th>1</th>\n",
       "      <td>653</td>\n",
       "      <td>0</td>\n",
       "      <td>0.018991</td>\n",
       "      <td>0</td>\n",
       "      <td>1</td>\n",
       "      <td>1</td>\n",
       "      <td>73</td>\n",
       "      <td>17</td>\n",
       "      <td>109000</td>\n",
       "      <td>73</td>\n",
       "      <td>...</td>\n",
       "      <td>0</td>\n",
       "      <td>0.018525</td>\n",
       "      <td>0</td>\n",
       "      <td>0.0</td>\n",
       "      <td>98</td>\n",
       "      <td>0.0</td>\n",
       "      <td>1999</td>\n",
       "      <td>3</td>\n",
       "      <td>2029</td>\n",
       "      <td>2</td>\n",
       "    </tr>\n",
       "    <tr>\n",
       "      <th>2</th>\n",
       "      <td>653</td>\n",
       "      <td>0</td>\n",
       "      <td>0.000261</td>\n",
       "      <td>0</td>\n",
       "      <td>1</td>\n",
       "      <td>1</td>\n",
       "      <td>75</td>\n",
       "      <td>16</td>\n",
       "      <td>88000</td>\n",
       "      <td>75</td>\n",
       "      <td>...</td>\n",
       "      <td>1</td>\n",
       "      <td>0.077632</td>\n",
       "      <td>0</td>\n",
       "      <td>0.0</td>\n",
       "      <td>67</td>\n",
       "      <td>0.0</td>\n",
       "      <td>1999</td>\n",
       "      <td>3</td>\n",
       "      <td>2029</td>\n",
       "      <td>2</td>\n",
       "    </tr>\n",
       "    <tr>\n",
       "      <th>3</th>\n",
       "      <td>653</td>\n",
       "      <td>0</td>\n",
       "      <td>0.032040</td>\n",
       "      <td>0</td>\n",
       "      <td>1</td>\n",
       "      <td>1</td>\n",
       "      <td>76</td>\n",
       "      <td>14</td>\n",
       "      <td>160000</td>\n",
       "      <td>76</td>\n",
       "      <td>...</td>\n",
       "      <td>1</td>\n",
       "      <td>0.039664</td>\n",
       "      <td>0</td>\n",
       "      <td>0.0</td>\n",
       "      <td>35</td>\n",
       "      <td>0.0</td>\n",
       "      <td>1999</td>\n",
       "      <td>3</td>\n",
       "      <td>2029</td>\n",
       "      <td>2</td>\n",
       "    </tr>\n",
       "    <tr>\n",
       "      <th>4</th>\n",
       "      <td>653</td>\n",
       "      <td>0</td>\n",
       "      <td>0.014253</td>\n",
       "      <td>0</td>\n",
       "      <td>1</td>\n",
       "      <td>1</td>\n",
       "      <td>78</td>\n",
       "      <td>18</td>\n",
       "      <td>109000</td>\n",
       "      <td>78</td>\n",
       "      <td>...</td>\n",
       "      <td>1</td>\n",
       "      <td>0.039664</td>\n",
       "      <td>0</td>\n",
       "      <td>0.0</td>\n",
       "      <td>54</td>\n",
       "      <td>0.0</td>\n",
       "      <td>1999</td>\n",
       "      <td>3</td>\n",
       "      <td>2029</td>\n",
       "      <td>2</td>\n",
       "    </tr>\n",
       "  </tbody>\n",
       "</table>\n",
       "<p>5 rows × 28 columns</p>\n",
       "</div>"
      ],
      "text/plain": [
       "   CreditScore  FirstTimeHomebuyer       MSA  MIP  Units  Occupancy  OCLTV   \n",
       "0          653                   0  0.030094   25      1          1     89  \\\n",
       "1          653                   0  0.018991    0      1          1     73   \n",
       "2          653                   0  0.000261    0      1          1     75   \n",
       "3          653                   0  0.032040    0      1          1     76   \n",
       "4          653                   0  0.014253    0      1          1     78   \n",
       "\n",
       "   DTI  OrigUPB  LTV  ...  NumBorrowers  ServicerName  EverDelinquent   \n",
       "0   27   117000   89  ...             1      0.077632               0  \\\n",
       "1   17   109000   73  ...             0      0.018525               0   \n",
       "2   16    88000   75  ...             1      0.077632               0   \n",
       "3   14   160000   76  ...             1      0.039664               0   \n",
       "4   18   109000   78  ...             1      0.039664               0   \n",
       "\n",
       "   MonthsDelinquent  MonthsInRepayment PrepaymentRisk  FirstPaymentYear   \n",
       "0               0.0                 52            0.0              1999  \\\n",
       "1               0.0                 98            0.0              1999   \n",
       "2               0.0                 67            0.0              1999   \n",
       "3               0.0                 35            0.0              1999   \n",
       "4               0.0                 54            0.0              1999   \n",
       "\n",
       "   FirstPaymentMonth  MaturityYear  MaturityMonth  \n",
       "0                  3          2029              2  \n",
       "1                  3          2029              2  \n",
       "2                  3          2029              2  \n",
       "3                  3          2029              2  \n",
       "4                  3          2029              2  \n",
       "\n",
       "[5 rows x 28 columns]"
      ]
     },
     "execution_count": 79,
     "metadata": {},
     "output_type": "execute_result"
    }
   ],
   "source": [
    "data.head()"
   ]
  },
  {
   "cell_type": "code",
   "execution_count": null,
   "metadata": {},
   "outputs": [],
   "source": [
    "data.to_csv('result.csv')"
   ]
  },
  {
   "cell_type": "code",
   "execution_count": 80,
   "metadata": {},
   "outputs": [
    {
     "data": {
      "text/plain": [
       "((233160, 27), (58291, 27))"
      ]
     },
     "execution_count": 80,
     "metadata": {},
     "output_type": "execute_result"
    }
   ],
   "source": [
    "from sklearn.model_selection import train_test_split \n",
    "from sklearn.preprocessing import StandardScaler\n",
    "\n",
    "X=data.drop('PrepaymentRisk',axis=1) ## independent variables\n",
    "y=data['PrepaymentRisk'] ## dependent variable\n",
    "\n",
    "X_train,X_test,y_train,y_test=train_test_split(X,y,test_size=0.2,random_state=0) ## 20% data is for test and 80% goes to\n",
    "## training\n",
    "X_train.shape,X_test.shape"
   ]
  },
  {
   "cell_type": "code",
   "execution_count": 81,
   "metadata": {},
   "outputs": [],
   "source": [
    "scaler=StandardScaler() ## object for standardscaler\n",
    "X_train=scaler.fit_transform(X_train) ## fitting the standardscaler object in train set\n",
    "X_test=scaler.transform(X_test) ## fitting the scaler object in test set"
   ]
  },
  {
   "cell_type": "code",
   "execution_count": 82,
   "metadata": {},
   "outputs": [],
   "source": [
    "## Finding the optimum number of components\n",
    "pca=PCA(n_components=None) ## Principal components equal to the number of variables in the data\n",
    "X_train_trf=pca.fit_transform(X_train)\n",
    "X_test_trf=pca.transform(X_test)"
   ]
  },
  {
   "cell_type": "code",
   "execution_count": 84,
   "metadata": {},
   "outputs": [
    {
     "data": {
      "text/plain": [
       "array([0.148705  , 0.25003347, 0.34498355, 0.41074836, 0.4697496 ,\n",
       "       0.52560181, 0.57750126, 0.62555898, 0.67069937, 0.71582235,\n",
       "       0.75780493, 0.79660271, 0.83417531, 0.86923226, 0.90365579,\n",
       "       0.93600994, 0.96295922, 0.98888335, 0.99962557, 0.99996197,\n",
       "       1.        , 1.        , 1.        , 1.        , 1.        ,\n",
       "       1.        , 1.        ])"
      ]
     },
     "execution_count": 84,
     "metadata": {},
     "output_type": "execute_result"
    }
   ],
   "source": [
    "np.cumsum(pca.explained_variance_ratio_) ## cumulative percentages of eigenvectors"
   ]
  },
  {
   "cell_type": "code",
   "execution_count": 85,
   "metadata": {},
   "outputs": [
    {
     "data": {
      "text/plain": [
       "Text(0, 0.5, '% of variance explained')"
      ]
     },
     "execution_count": 85,
     "metadata": {},
     "output_type": "execute_result"
    },
    {
     "data": {
      "image/png": "[encoded data removed]",
      "text/plain": [
       "<Figure size 640x480 with 1 Axes>"
      ]
     },
     "metadata": {},
     "output_type": "display_data"
    }
   ],
   "source": [
    "plt.plot(np.cumsum(pca.explained_variance_ratio_)) ## plotting the cumulative distribution function\n",
    "plt.xlabel('No of components')\n",
    "plt.ylabel('% of variance explained')"
   ]
  },
  {
   "cell_type": "code",
   "execution_count": 86,
   "metadata": {},
   "outputs": [],
   "source": [
    "from sklearn.feature_selection import f_regression ## F-score\n",
    "ordered_rank_features=SelectKBest(score_func=f_regression,k=15) ## This will give the top 15 features according to their F-score\n",
    "ordered_feature=ordered_rank_features.fit(X,y) ## Fitting the algorithm to the dataset. Higher the F-score, more relevant\n",
    "## is the feature with the target"
   ]
  },
  {
   "cell_type": "code",
   "execution_count": 87,
   "metadata": {},
   "outputs": [
    {
     "data": {
      "text/plain": [
       "array([1.06180755e+02, 0.00000000e+00, 1.06156709e+01, 1.71281224e+03,\n",
       "       6.13752796e+01, 6.17158617e-02, 1.84401721e+03, 5.35199140e+06,\n",
       "       1.35628423e+03, 1.82216821e+03, 1.82490808e+03, 4.75369126e+02,\n",
       "       1.33040009e+00, 2.69566122e+02, 3.92247242e+01, 0.00000000e+00,\n",
       "       5.43726685e+02, 0.00000000e+00, 2.11837597e+03, 1.48231442e+00,\n",
       "       8.28359389e+01, 8.28359389e+01, 8.75126021e-05, 0.00000000e+00,\n",
       "       2.53221547e+03, 0.00000000e+00, 2.60548224e+03])"
      ]
     },
     "execution_count": 87,
     "metadata": {},
     "output_type": "execute_result"
    }
   ],
   "source": [
    "ordered_feature.scores_ ## p-values corresponding to each F-score. Lower the p-value, more relevant the feature is with the\n",
    "## target"
   ]
  },
  {
   "cell_type": "code",
   "execution_count": 88,
   "metadata": {},
   "outputs": [],
   "source": [
    "datascores=pd.DataFrame(ordered_feature.scores_) ## converting the F-scores numpy array to a dataframe\n",
    "datacolumns=pd.DataFrame(X.columns) ## Converting the independent features array to a dataframe"
   ]
  },
  {
   "cell_type": "code",
   "execution_count": 89,
   "metadata": {},
   "outputs": [
    {
     "data": {
      "text/html": [
       "<div>\n",
       "<style scoped>\n",
       "    .dataframe tbody tr th:only-of-type {\n",
       "        vertical-align: middle;\n",
       "    }\n",
       "\n",
       "    .dataframe tbody tr th {\n",
       "        vertical-align: top;\n",
       "    }\n",
       "\n",
       "    .dataframe thead th {\n",
       "        text-align: right;\n",
       "    }\n",
       "</style>\n",
       "<table border=\"1\" class=\"dataframe\">\n",
       "  <thead>\n",
       "    <tr style=\"text-align: right;\">\n",
       "      <th></th>\n",
       "      <th>Features</th>\n",
       "      <th>Scores</th>\n",
       "    </tr>\n",
       "  </thead>\n",
       "  <tbody>\n",
       "    <tr>\n",
       "      <th>0</th>\n",
       "      <td>CreditScore</td>\n",
       "      <td>1.061808e+02</td>\n",
       "    </tr>\n",
       "    <tr>\n",
       "      <th>1</th>\n",
       "      <td>FirstTimeHomebuyer</td>\n",
       "      <td>0.000000e+00</td>\n",
       "    </tr>\n",
       "    <tr>\n",
       "      <th>2</th>\n",
       "      <td>MSA</td>\n",
       "      <td>1.061567e+01</td>\n",
       "    </tr>\n",
       "    <tr>\n",
       "      <th>3</th>\n",
       "      <td>MIP</td>\n",
       "      <td>1.712812e+03</td>\n",
       "    </tr>\n",
       "    <tr>\n",
       "      <th>4</th>\n",
       "      <td>Units</td>\n",
       "      <td>6.137528e+01</td>\n",
       "    </tr>\n",
       "    <tr>\n",
       "      <th>5</th>\n",
       "      <td>Occupancy</td>\n",
       "      <td>6.171586e-02</td>\n",
       "    </tr>\n",
       "    <tr>\n",
       "      <th>6</th>\n",
       "      <td>OCLTV</td>\n",
       "      <td>1.844017e+03</td>\n",
       "    </tr>\n",
       "    <tr>\n",
       "      <th>7</th>\n",
       "      <td>DTI</td>\n",
       "      <td>5.351991e+06</td>\n",
       "    </tr>\n",
       "    <tr>\n",
       "      <th>8</th>\n",
       "      <td>OrigUPB</td>\n",
       "      <td>1.356284e+03</td>\n",
       "    </tr>\n",
       "    <tr>\n",
       "      <th>9</th>\n",
       "      <td>LTV</td>\n",
       "      <td>1.822168e+03</td>\n",
       "    </tr>\n",
       "    <tr>\n",
       "      <th>10</th>\n",
       "      <td>OrigInterestRate</td>\n",
       "      <td>1.824908e+03</td>\n",
       "    </tr>\n",
       "    <tr>\n",
       "      <th>11</th>\n",
       "      <td>Channel</td>\n",
       "      <td>4.753691e+02</td>\n",
       "    </tr>\n",
       "    <tr>\n",
       "      <th>12</th>\n",
       "      <td>PPM</td>\n",
       "      <td>1.330400e+00</td>\n",
       "    </tr>\n",
       "    <tr>\n",
       "      <th>13</th>\n",
       "      <td>PropertyState</td>\n",
       "      <td>2.695661e+02</td>\n",
       "    </tr>\n",
       "    <tr>\n",
       "      <th>14</th>\n",
       "      <td>PropertyType</td>\n",
       "      <td>3.922472e+01</td>\n",
       "    </tr>\n",
       "    <tr>\n",
       "      <th>15</th>\n",
       "      <td>PostalCode</td>\n",
       "      <td>0.000000e+00</td>\n",
       "    </tr>\n",
       "    <tr>\n",
       "      <th>16</th>\n",
       "      <td>LoanPurpose</td>\n",
       "      <td>5.437267e+02</td>\n",
       "    </tr>\n",
       "    <tr>\n",
       "      <th>17</th>\n",
       "      <td>OrigLoanTerm</td>\n",
       "      <td>0.000000e+00</td>\n",
       "    </tr>\n",
       "    <tr>\n",
       "      <th>18</th>\n",
       "      <td>NumBorrowers</td>\n",
       "      <td>2.118376e+03</td>\n",
       "    </tr>\n",
       "    <tr>\n",
       "      <th>19</th>\n",
       "      <td>ServicerName</td>\n",
       "      <td>1.482314e+00</td>\n",
       "    </tr>\n",
       "    <tr>\n",
       "      <th>20</th>\n",
       "      <td>EverDelinquent</td>\n",
       "      <td>8.283594e+01</td>\n",
       "    </tr>\n",
       "    <tr>\n",
       "      <th>21</th>\n",
       "      <td>MonthsDelinquent</td>\n",
       "      <td>8.283594e+01</td>\n",
       "    </tr>\n",
       "    <tr>\n",
       "      <th>22</th>\n",
       "      <td>MonthsInRepayment</td>\n",
       "      <td>8.751260e-05</td>\n",
       "    </tr>\n",
       "    <tr>\n",
       "      <th>23</th>\n",
       "      <td>FirstPaymentYear</td>\n",
       "      <td>0.000000e+00</td>\n",
       "    </tr>\n",
       "    <tr>\n",
       "      <th>24</th>\n",
       "      <td>FirstPaymentMonth</td>\n",
       "      <td>2.532215e+03</td>\n",
       "    </tr>\n",
       "    <tr>\n",
       "      <th>25</th>\n",
       "      <td>MaturityYear</td>\n",
       "      <td>0.000000e+00</td>\n",
       "    </tr>\n",
       "    <tr>\n",
       "      <th>26</th>\n",
       "      <td>MaturityMonth</td>\n",
       "      <td>2.605482e+03</td>\n",
       "    </tr>\n",
       "  </tbody>\n",
       "</table>\n",
       "</div>"
      ],
      "text/plain": [
       "              Features        Scores\n",
       "0          CreditScore  1.061808e+02\n",
       "1   FirstTimeHomebuyer  0.000000e+00\n",
       "2                  MSA  1.061567e+01\n",
       "3                  MIP  1.712812e+03\n",
       "4                Units  6.137528e+01\n",
       "5            Occupancy  6.171586e-02\n",
       "6                OCLTV  1.844017e+03\n",
       "7                  DTI  5.351991e+06\n",
       "8              OrigUPB  1.356284e+03\n",
       "9                  LTV  1.822168e+03\n",
       "10    OrigInterestRate  1.824908e+03\n",
       "11             Channel  4.753691e+02\n",
       "12                 PPM  1.330400e+00\n",
       "13       PropertyState  2.695661e+02\n",
       "14        PropertyType  3.922472e+01\n",
       "15          PostalCode  0.000000e+00\n",
       "16         LoanPurpose  5.437267e+02\n",
       "17        OrigLoanTerm  0.000000e+00\n",
       "18        NumBorrowers  2.118376e+03\n",
       "19        ServicerName  1.482314e+00\n",
       "20      EverDelinquent  8.283594e+01\n",
       "21    MonthsDelinquent  8.283594e+01\n",
       "22   MonthsInRepayment  8.751260e-05\n",
       "23    FirstPaymentYear  0.000000e+00\n",
       "24   FirstPaymentMonth  2.532215e+03\n",
       "25        MaturityYear  0.000000e+00\n",
       "26       MaturityMonth  2.605482e+03"
      ]
     },
     "execution_count": 89,
     "metadata": {},
     "output_type": "execute_result"
    }
   ],
   "source": [
    "features_rank=pd.concat([datacolumns,datascores],axis=1) ## merging the two dataframes\n",
    "features_rank.columns=['Features','Scores'] ## naming the columns\n",
    "features_rank"
   ]
  },
  {
   "cell_type": "code",
   "execution_count": 90,
   "metadata": {},
   "outputs": [
    {
     "data": {
      "text/html": [
       "<div>\n",
       "<style scoped>\n",
       "    .dataframe tbody tr th:only-of-type {\n",
       "        vertical-align: middle;\n",
       "    }\n",
       "\n",
       "    .dataframe tbody tr th {\n",
       "        vertical-align: top;\n",
       "    }\n",
       "\n",
       "    .dataframe thead th {\n",
       "        text-align: right;\n",
       "    }\n",
       "</style>\n",
       "<table border=\"1\" class=\"dataframe\">\n",
       "  <thead>\n",
       "    <tr style=\"text-align: right;\">\n",
       "      <th></th>\n",
       "      <th>Features</th>\n",
       "      <th>Scores</th>\n",
       "    </tr>\n",
       "  </thead>\n",
       "  <tbody>\n",
       "    <tr>\n",
       "      <th>7</th>\n",
       "      <td>DTI</td>\n",
       "      <td>5.351991e+06</td>\n",
       "    </tr>\n",
       "    <tr>\n",
       "      <th>26</th>\n",
       "      <td>MaturityMonth</td>\n",
       "      <td>2.605482e+03</td>\n",
       "    </tr>\n",
       "    <tr>\n",
       "      <th>24</th>\n",
       "      <td>FirstPaymentMonth</td>\n",
       "      <td>2.532215e+03</td>\n",
       "    </tr>\n",
       "    <tr>\n",
       "      <th>18</th>\n",
       "      <td>NumBorrowers</td>\n",
       "      <td>2.118376e+03</td>\n",
       "    </tr>\n",
       "    <tr>\n",
       "      <th>6</th>\n",
       "      <td>OCLTV</td>\n",
       "      <td>1.844017e+03</td>\n",
       "    </tr>\n",
       "    <tr>\n",
       "      <th>10</th>\n",
       "      <td>OrigInterestRate</td>\n",
       "      <td>1.824908e+03</td>\n",
       "    </tr>\n",
       "    <tr>\n",
       "      <th>9</th>\n",
       "      <td>LTV</td>\n",
       "      <td>1.822168e+03</td>\n",
       "    </tr>\n",
       "    <tr>\n",
       "      <th>3</th>\n",
       "      <td>MIP</td>\n",
       "      <td>1.712812e+03</td>\n",
       "    </tr>\n",
       "    <tr>\n",
       "      <th>8</th>\n",
       "      <td>OrigUPB</td>\n",
       "      <td>1.356284e+03</td>\n",
       "    </tr>\n",
       "    <tr>\n",
       "      <th>16</th>\n",
       "      <td>LoanPurpose</td>\n",
       "      <td>5.437267e+02</td>\n",
       "    </tr>\n",
       "    <tr>\n",
       "      <th>11</th>\n",
       "      <td>Channel</td>\n",
       "      <td>4.753691e+02</td>\n",
       "    </tr>\n",
       "    <tr>\n",
       "      <th>13</th>\n",
       "      <td>PropertyState</td>\n",
       "      <td>2.695661e+02</td>\n",
       "    </tr>\n",
       "    <tr>\n",
       "      <th>0</th>\n",
       "      <td>CreditScore</td>\n",
       "      <td>1.061808e+02</td>\n",
       "    </tr>\n",
       "    <tr>\n",
       "      <th>20</th>\n",
       "      <td>EverDelinquent</td>\n",
       "      <td>8.283594e+01</td>\n",
       "    </tr>\n",
       "    <tr>\n",
       "      <th>21</th>\n",
       "      <td>MonthsDelinquent</td>\n",
       "      <td>8.283594e+01</td>\n",
       "    </tr>\n",
       "  </tbody>\n",
       "</table>\n",
       "</div>"
      ],
      "text/plain": [
       "             Features        Scores\n",
       "7                 DTI  5.351991e+06\n",
       "26      MaturityMonth  2.605482e+03\n",
       "24  FirstPaymentMonth  2.532215e+03\n",
       "18       NumBorrowers  2.118376e+03\n",
       "6               OCLTV  1.844017e+03\n",
       "10   OrigInterestRate  1.824908e+03\n",
       "9                 LTV  1.822168e+03\n",
       "3                 MIP  1.712812e+03\n",
       "8             OrigUPB  1.356284e+03\n",
       "16        LoanPurpose  5.437267e+02\n",
       "11            Channel  4.753691e+02\n",
       "13      PropertyState  2.695661e+02\n",
       "0         CreditScore  1.061808e+02\n",
       "20     EverDelinquent  8.283594e+01\n",
       "21   MonthsDelinquent  8.283594e+01"
      ]
     },
     "execution_count": 90,
     "metadata": {},
     "output_type": "execute_result"
    }
   ],
   "source": [
    "features_rank.nlargest(15,'Scores') ## We need only 15 features to explain the maximum amount of variance in the data"
   ]
  },
  {
   "cell_type": "code",
   "execution_count": 91,
   "metadata": {},
   "outputs": [],
   "source": [
    "X=data[['DTI','MaturityMonth','FirstPaymentMonth','OCLTV','OrigInterestRate','LTV','MIP','NumBorrowers',\n",
    "     'OrigUPB','PropertyState','LoanPurpose','Channel','PostalCode','PropertyType','CreditScore']]\n",
    "y=data['PrepaymentRisk']"
   ]
  },
  {
   "cell_type": "code",
   "execution_count": 92,
   "metadata": {},
   "outputs": [
    {
     "data": {
      "text/plain": [
       "((233160, 15), (58291, 15))"
      ]
     },
     "execution_count": 92,
     "metadata": {},
     "output_type": "execute_result"
    }
   ],
   "source": [
    "X_train,X_test,y_train,y_test=train_test_split(X,y,test_size=0.2,random_state=0)\n",
    "X_train.shape,X_test.shape"
   ]
  },
  {
   "cell_type": "code",
   "execution_count": 93,
   "metadata": {},
   "outputs": [],
   "source": [
    "from sklearn.linear_model import LinearRegression, Lasso\n",
    "from sklearn.metrics import mean_squared_error, mean_absolute_error, r2_score"
   ]
  },
  {
   "attachments": {},
   "cell_type": "markdown",
   "metadata": {},
   "source": [
    "### Model building using PCA and top features"
   ]
  },
  {
   "cell_type": "code",
   "execution_count": 94,
   "metadata": {},
   "outputs": [
    {
     "name": "stdout",
     "output_type": "stream",
     "text": [
      "Linear Regression Metrics:\n",
      "Mean Squared Error (MSE): 0.0007899848666193402\n",
      "Mean Absolute Error (MAE): 0.011276290392804054\n",
      "R-squared (R2): 0.9752451439439389\n",
      "Training Accuracy: 0.9760582674363629\n",
      "Test Accuracy: 0.98\n"
     ]
    }
   ],
   "source": [
    "# Train the linear regression model\n",
    "linear_reg = LinearRegression()\n",
    "linear_reg.fit(X_train, y_train)\n",
    "\n",
    "# Make predictions on the test set\n",
    "linear_reg_preds = linear_reg.predict(X_test)\n",
    "\n",
    "# Evaluate linear regression model\n",
    "linear_reg_mse = mean_squared_error(y_test, linear_reg_preds)\n",
    "linear_reg_mae = mean_absolute_error(y_test, linear_reg_preds)\n",
    "linear_reg_r2 = r2_score(y_test, linear_reg_preds)\n",
    "\n",
    "print(\"Linear Regression Metrics:\")\n",
    "print(\"Mean Squared Error (MSE):\", linear_reg_mse)\n",
    "print(\"Mean Absolute Error (MAE):\", linear_reg_mae)\n",
    "print(\"R-squared (R2):\", linear_reg_r2)\n",
    "print('Training Accuracy:',linear_reg.score(X_train,y_train))\n",
    "print('Test Accuracy:',np.round(linear_reg.score(X_test,y_test),2))\n",
    "\n"
   ]
  },
  {
   "cell_type": "code",
   "execution_count": 95,
   "metadata": {},
   "outputs": [],
   "source": [
    "filename=\"Linear_PCA_model.pkl\""
   ]
  },
  {
   "cell_type": "code",
   "execution_count": 96,
   "metadata": {},
   "outputs": [],
   "source": [
    "import pickle\n",
    "pickle.dump(linear_reg,open(filename,'wb'))"
   ]
  },
  {
   "cell_type": "code",
   "execution_count": 97,
   "metadata": {},
   "outputs": [
    {
     "name": "stdout",
     "output_type": "stream",
     "text": [
      "\n",
      "Lasso Metrics:\n",
      "Mean Squared Error (MSE): 0.0008607100400194448\n",
      "Mean Absolute Error (MAE): 0.0131374787983872\n",
      "R-squared (R2): 0.9730289097335902\n",
      "Training Accuracy: 0.9738222545085506\n",
      "Test Accuracy: 0.97\n"
     ]
    }
   ],
   "source": [
    "# Train the Lasso model\n",
    "lasso = Lasso(alpha=0.1)\n",
    "lasso.fit(X_train, y_train)\n",
    "\n",
    "# Make predictions on the test set\n",
    "lasso_preds = lasso.predict(X_test)\n",
    "\n",
    "# Evaluate Lasso model\n",
    "lasso_mse = mean_squared_error(y_test, lasso_preds)\n",
    "lasso_mae = mean_absolute_error(y_test, lasso_preds)\n",
    "lasso_r2 = r2_score(y_test, lasso_preds)\n",
    "\n",
    "print(\"\\nLasso Metrics:\")\n",
    "print(\"Mean Squared Error (MSE):\", lasso_mse)\n",
    "print(\"Mean Absolute Error (MAE):\", lasso_mae)\n",
    "print(\"R-squared (R2):\", lasso_r2)\n",
    "print('Training Accuracy:',lasso.score(X_train,y_train))\n",
    "print('Test Accuracy:',np.round(lasso.score(X_test,y_test),2))"
   ]
  },
  {
   "cell_type": "code",
   "execution_count": 98,
   "metadata": {},
   "outputs": [],
   "source": [
    "filename=\"Lasso_PCA_model.pkl\""
   ]
  },
  {
   "cell_type": "code",
   "execution_count": 99,
   "metadata": {},
   "outputs": [],
   "source": [
    "pickle.dump(linear_reg,open(filename,'wb'))"
   ]
  },
  {
   "attachments": {},
   "cell_type": "markdown",
   "metadata": {},
   "source": [
    "### Model building using MI and top features"
   ]
  },
  {
   "cell_type": "code",
   "execution_count": 100,
   "metadata": {},
   "outputs": [],
   "source": [
    "from sklearn.feature_selection import mutual_info_regression\n",
    "mi_selector = SelectKBest(score_func=mutual_info_regression, k=15)  # Select top 15 features\n",
    "X_mi = mi_selector.fit_transform(X, y)\n",
    "mi_scores = mi_selector.scores_\n",
    "mi_features = X.columns[mi_selector.get_support()].tolist()"
   ]
  },
  {
   "cell_type": "code",
   "execution_count": 101,
   "metadata": {},
   "outputs": [
    {
     "data": {
      "text/plain": [
       "['DTI',\n",
       " 'MaturityMonth',\n",
       " 'FirstPaymentMonth',\n",
       " 'OCLTV',\n",
       " 'OrigInterestRate',\n",
       " 'LTV',\n",
       " 'MIP',\n",
       " 'NumBorrowers',\n",
       " 'OrigUPB',\n",
       " 'PropertyState',\n",
       " 'LoanPurpose',\n",
       " 'Channel',\n",
       " 'PostalCode',\n",
       " 'PropertyType',\n",
       " 'CreditScore']"
      ]
     },
     "execution_count": 101,
     "metadata": {},
     "output_type": "execute_result"
    }
   ],
   "source": [
    "mi_features"
   ]
  },
  {
   "cell_type": "code",
   "execution_count": 102,
   "metadata": {},
   "outputs": [],
   "source": [
    "X_train,X_test,y_train,y_test=train_test_split(X_mi,y,test_size=0.3,random_state=0)"
   ]
  },
  {
   "attachments": {},
   "cell_type": "markdown",
   "metadata": {},
   "source": [
    "### LinearRegression"
   ]
  },
  {
   "cell_type": "code",
   "execution_count": 103,
   "metadata": {},
   "outputs": [
    {
     "name": "stdout",
     "output_type": "stream",
     "text": [
      "Linear Regression Metrics:\n",
      "R2 Score: 0.9745750064933433\n",
      "Mean Squared Error: 0.0007950983304564496\n",
      "Mean Absolute Error: 0.011270277670742264\n"
     ]
    }
   ],
   "source": [
    "lin=LinearRegression()\n",
    "lin.fit(X_train,y_train)\n",
    "y_pred=lin.predict(X_test)\n",
    "print('Linear Regression Metrics:')\n",
    "print('R2 Score:',r2_score(y_pred,y_test))\n",
    "print('Mean Squared Error:',mean_squared_error(y_pred,y_test))\n",
    "print('Mean Absolute Error:',mean_absolute_error(y_pred,y_test))"
   ]
  },
  {
   "cell_type": "code",
   "execution_count": 104,
   "metadata": {},
   "outputs": [
    {
     "name": "stdout",
     "output_type": "stream",
     "text": [
      "Training Accuracy: 0.9762100841623681\n",
      "Test Accuracy: 0.98\n"
     ]
    }
   ],
   "source": [
    "print('Training Accuracy:',lin.score(X_train,y_train))\n",
    "print('Test Accuracy:',np.round(lin.score(X_test,y_test),2))"
   ]
  },
  {
   "cell_type": "code",
   "execution_count": 105,
   "metadata": {},
   "outputs": [],
   "source": [
    "filename=\"Linear_MI_model.pkl\"\n",
    "pickle.dump(lin,open(filename,'wb'))"
   ]
  },
  {
   "attachments": {},
   "cell_type": "markdown",
   "metadata": {},
   "source": [
    "### LassoRegression"
   ]
  },
  {
   "cell_type": "code",
   "execution_count": 106,
   "metadata": {},
   "outputs": [
    {
     "name": "stdout",
     "output_type": "stream",
     "text": [
      "\n",
      "Lasso Metrics:\n",
      "Mean Squared Error (MSE): 0.0008646822439315137\n",
      "Mean Absolute Error (MAE): 0.013122159597961534\n",
      "R-squared (R2): 0.9729866389437463\n"
     ]
    },
    {
     "name": "stderr",
     "output_type": "stream",
     "text": [
      "C:\\Users\\Abu Huraira\\AppData\\Local\\Packages\\PythonSoftwareFoundation.Python.3.10_qbz5n2kfra8p0\\LocalCache\\local-packages\\Python310\\site-packages\\sklearn\\base.py:439: UserWarning: X does not have valid feature names, but Lasso was fitted with feature names\n",
      "  warnings.warn(\n",
      "C:\\Users\\Abu Huraira\\AppData\\Local\\Packages\\PythonSoftwareFoundation.Python.3.10_qbz5n2kfra8p0\\LocalCache\\local-packages\\Python310\\site-packages\\sklearn\\base.py:439: UserWarning: X does not have valid feature names, but Lasso was fitted with feature names\n",
      "  warnings.warn(\n"
     ]
    },
    {
     "name": "stdout",
     "output_type": "stream",
     "text": [
      "Training Accuracy: 0.9739593714021727\n",
      "Test Accuracy: 0.97\n"
     ]
    }
   ],
   "source": [
    "# Train the Lasso model\n",
    "lasso_mi = Lasso(alpha=0.1)\n",
    "lasso_mi.fit(X_train, y_train)\n",
    "\n",
    "# Make predictions on the test set\n",
    "lasso_preds = lasso_mi.predict(X_test)\n",
    "\n",
    "# Evaluate Lasso model\n",
    "lasso_mse = mean_squared_error(y_test, lasso_preds)\n",
    "lasso_mae = mean_absolute_error(y_test, lasso_preds)\n",
    "lasso_r2 = r2_score(y_test, lasso_preds)\n",
    "\n",
    "print(\"\\nLasso Metrics:\")\n",
    "print(\"Mean Squared Error (MSE):\", lasso_mse)\n",
    "print(\"Mean Absolute Error (MAE):\", lasso_mae)\n",
    "print(\"R-squared (R2):\", lasso_r2)\n",
    "print('Training Accuracy:',lasso.score(X_train,y_train))\n",
    "print('Test Accuracy:',np.round(lasso.score(X_test,y_test),2))"
   ]
  },
  {
   "cell_type": "code",
   "execution_count": 107,
   "metadata": {},
   "outputs": [],
   "source": [
    "filename=\"Lasso_MI_model.pkl\"\n",
    "pickle.dump(lasso_mi,open(filename,'wb'))"
   ]
  },
  {
   "attachments": {},
   "cell_type": "markdown",
   "metadata": {},
   "source": [
    "## Classification"
   ]
  },
  {
   "attachments": {},
   "cell_type": "markdown",
   "metadata": {},
   "source": [
    "### Model building using PCA and top features"
   ]
  },
  {
   "cell_type": "code",
   "execution_count": 108,
   "metadata": {},
   "outputs": [],
   "source": [
    "X=data[['DTI','MaturityMonth','FirstPaymentMonth','OCLTV','OrigInterestRate','LTV','MIP','NumBorrowers',\n",
    "     'OrigUPB','PropertyState','LoanPurpose','Channel','PostalCode','PropertyType','CreditScore']]\n",
    "y=data['EverDelinquent']"
   ]
  },
  {
   "cell_type": "code",
   "execution_count": 109,
   "metadata": {},
   "outputs": [],
   "source": [
    "X_train,X_test,y_train,y_test=train_test_split(X,y,test_size=0.2,random_state=0) ## 20% data is for test and 80% goes to"
   ]
  },
  {
   "cell_type": "code",
   "execution_count": 110,
   "metadata": {},
   "outputs": [
    {
     "name": "stdout",
     "output_type": "stream",
     "text": [
      "Gradient Boosting Classifier:\n",
      "Classification Report:\n",
      "              precision    recall  f1-score   support\n",
      "\n",
      "           0       0.81      0.99      0.89     46771\n",
      "           1       0.54      0.03      0.06     11520\n",
      "\n",
      "    accuracy                           0.80     58291\n",
      "   macro avg       0.67      0.51      0.48     58291\n",
      "weighted avg       0.75      0.80      0.73     58291\n",
      "\n",
      "Accuracy: 80.33\n"
     ]
    }
   ],
   "source": [
    "# Train Gradient Boosting model\n",
    "gb_model = GradientBoostingClassifier()\n",
    "gb_model.fit(X_train, y_train)\n",
    "\n",
    "# Make predictions using Gradient Boosting model\n",
    "gb_preds = gb_model.predict(X_test)\n",
    "\n",
    "# Print classification report and accuracy for Gradient Boosting model\n",
    "print(\"Gradient Boosting Classifier:\")\n",
    "print(\"Classification Report:\")\n",
    "print(classification_report(y_test, gb_preds))\n",
    "print(\"Accuracy:\", np.round(accuracy_score(y_test, gb_preds)*100,2))"
   ]
  },
  {
   "cell_type": "code",
   "execution_count": 111,
   "metadata": {},
   "outputs": [
    {
     "name": "stdout",
     "output_type": "stream",
     "text": [
      "Gradient Boosting Classifier:\n",
      "Confusion Matrix:\n",
      "[[46429   342]\n",
      " [11124   396]]\n",
      "\n"
     ]
    }
   ],
   "source": [
    "# Print confusion matrix for Gradient Boosting model\n",
    "print(\"Gradient Boosting Classifier:\")\n",
    "print(\"Confusion Matrix:\")\n",
    "print(confusion_matrix(y_test, gb_preds))\n",
    "print()"
   ]
  },
  {
   "cell_type": "code",
   "execution_count": 112,
   "metadata": {},
   "outputs": [],
   "source": [
    "filename=\"GB_PCA_model.pkl\"\n",
    "pickle.dump(gb_model,open(filename,'wb'))"
   ]
  },
  {
   "cell_type": "code",
   "execution_count": 113,
   "metadata": {},
   "outputs": [
    {
     "ename": "ValueError",
     "evalue": "DataFrame.dtypes for data must be int, float, bool or category. When categorical type is supplied, The experimental DMatrix parameter`enable_categorical` must be set to `True`.  Invalid columns:PostalCode: object",
     "output_type": "error",
     "traceback": [
      "\u001b[1;31m---------------------------------------------------------------------------\u001b[0m",
      "\u001b[1;31mValueError\u001b[0m                                Traceback (most recent call last)",
      "Cell \u001b[1;32mIn[113], line 3\u001b[0m\n\u001b[0;32m      1\u001b[0m \u001b[39m# Train XGBoost model\u001b[39;00m\n\u001b[0;32m      2\u001b[0m xgb_model \u001b[39m=\u001b[39m xgb\u001b[39m.\u001b[39mXGBClassifier()\n\u001b[1;32m----> 3\u001b[0m xgb_model\u001b[39m.\u001b[39;49mfit(X_train, y_train)\n\u001b[0;32m      5\u001b[0m \u001b[39m# Make predictions using XGBoost model\u001b[39;00m\n\u001b[0;32m      6\u001b[0m xgb_preds \u001b[39m=\u001b[39m xgb_model\u001b[39m.\u001b[39mpredict(X_test)\n",
      "File \u001b[1;32m~\\AppData\\Local\\Packages\\PythonSoftwareFoundation.Python.3.10_qbz5n2kfra8p0\\LocalCache\\local-packages\\Python310\\site-packages\\xgboost\\core.py:620\u001b[0m, in \u001b[0;36mrequire_keyword_args.<locals>.throw_if.<locals>.inner_f\u001b[1;34m(*args, **kwargs)\u001b[0m\n\u001b[0;32m    618\u001b[0m \u001b[39mfor\u001b[39;00m k, arg \u001b[39min\u001b[39;00m \u001b[39mzip\u001b[39m(sig\u001b[39m.\u001b[39mparameters, args):\n\u001b[0;32m    619\u001b[0m     kwargs[k] \u001b[39m=\u001b[39m arg\n\u001b[1;32m--> 620\u001b[0m \u001b[39mreturn\u001b[39;00m func(\u001b[39m*\u001b[39m\u001b[39m*\u001b[39mkwargs)\n",
      "File \u001b[1;32m~\\AppData\\Local\\Packages\\PythonSoftwareFoundation.Python.3.10_qbz5n2kfra8p0\\LocalCache\\local-packages\\Python310\\site-packages\\xgboost\\sklearn.py:1471\u001b[0m, in \u001b[0;36mXGBClassifier.fit\u001b[1;34m(self, X, y, sample_weight, base_margin, eval_set, eval_metric, early_stopping_rounds, verbose, xgb_model, sample_weight_eval_set, base_margin_eval_set, feature_weights, callbacks)\u001b[0m\n\u001b[0;32m   1460\u001b[0m     params[\u001b[39m\"\u001b[39m\u001b[39mnum_class\u001b[39m\u001b[39m\"\u001b[39m] \u001b[39m=\u001b[39m \u001b[39mself\u001b[39m\u001b[39m.\u001b[39mn_classes_\n\u001b[0;32m   1462\u001b[0m (\n\u001b[0;32m   1463\u001b[0m     model,\n\u001b[0;32m   1464\u001b[0m     metric,\n\u001b[1;32m   (...)\u001b[0m\n\u001b[0;32m   1469\u001b[0m     xgb_model, eval_metric, params, early_stopping_rounds, callbacks\n\u001b[0;32m   1470\u001b[0m )\n\u001b[1;32m-> 1471\u001b[0m train_dmatrix, evals \u001b[39m=\u001b[39m _wrap_evaluation_matrices(\n\u001b[0;32m   1472\u001b[0m     missing\u001b[39m=\u001b[39;49m\u001b[39mself\u001b[39;49m\u001b[39m.\u001b[39;49mmissing,\n\u001b[0;32m   1473\u001b[0m     X\u001b[39m=\u001b[39;49mX,\n\u001b[0;32m   1474\u001b[0m     y\u001b[39m=\u001b[39;49my,\n\u001b[0;32m   1475\u001b[0m     group\u001b[39m=\u001b[39;49m\u001b[39mNone\u001b[39;49;00m,\n\u001b[0;32m   1476\u001b[0m     qid\u001b[39m=\u001b[39;49m\u001b[39mNone\u001b[39;49;00m,\n\u001b[0;32m   1477\u001b[0m     sample_weight\u001b[39m=\u001b[39;49msample_weight,\n\u001b[0;32m   1478\u001b[0m     base_margin\u001b[39m=\u001b[39;49mbase_margin,\n\u001b[0;32m   1479\u001b[0m     feature_weights\u001b[39m=\u001b[39;49mfeature_weights,\n\u001b[0;32m   1480\u001b[0m     eval_set\u001b[39m=\u001b[39;49meval_set,\n\u001b[0;32m   1481\u001b[0m     sample_weight_eval_set\u001b[39m=\u001b[39;49msample_weight_eval_set,\n\u001b[0;32m   1482\u001b[0m     base_margin_eval_set\u001b[39m=\u001b[39;49mbase_margin_eval_set,\n\u001b[0;32m   1483\u001b[0m     eval_group\u001b[39m=\u001b[39;49m\u001b[39mNone\u001b[39;49;00m,\n\u001b[0;32m   1484\u001b[0m     eval_qid\u001b[39m=\u001b[39;49m\u001b[39mNone\u001b[39;49;00m,\n\u001b[0;32m   1485\u001b[0m     create_dmatrix\u001b[39m=\u001b[39;49m\u001b[39mself\u001b[39;49m\u001b[39m.\u001b[39;49m_create_dmatrix,\n\u001b[0;32m   1486\u001b[0m     enable_categorical\u001b[39m=\u001b[39;49m\u001b[39mself\u001b[39;49m\u001b[39m.\u001b[39;49menable_categorical,\n\u001b[0;32m   1487\u001b[0m     feature_types\u001b[39m=\u001b[39;49m\u001b[39mself\u001b[39;49m\u001b[39m.\u001b[39;49mfeature_types,\n\u001b[0;32m   1488\u001b[0m )\n\u001b[0;32m   1490\u001b[0m \u001b[39mself\u001b[39m\u001b[39m.\u001b[39m_Booster \u001b[39m=\u001b[39m train(\n\u001b[0;32m   1491\u001b[0m     params,\n\u001b[0;32m   1492\u001b[0m     train_dmatrix,\n\u001b[1;32m   (...)\u001b[0m\n\u001b[0;32m   1501\u001b[0m     callbacks\u001b[39m=\u001b[39mcallbacks,\n\u001b[0;32m   1502\u001b[0m )\n\u001b[0;32m   1504\u001b[0m \u001b[39mif\u001b[39;00m \u001b[39mnot\u001b[39;00m callable(\u001b[39mself\u001b[39m\u001b[39m.\u001b[39mobjective):\n",
      "File \u001b[1;32m~\\AppData\\Local\\Packages\\PythonSoftwareFoundation.Python.3.10_qbz5n2kfra8p0\\LocalCache\\local-packages\\Python310\\site-packages\\xgboost\\sklearn.py:448\u001b[0m, in \u001b[0;36m_wrap_evaluation_matrices\u001b[1;34m(missing, X, y, group, qid, sample_weight, base_margin, feature_weights, eval_set, sample_weight_eval_set, base_margin_eval_set, eval_group, eval_qid, create_dmatrix, enable_categorical, feature_types)\u001b[0m\n\u001b[0;32m    428\u001b[0m \u001b[39mdef\u001b[39;00m \u001b[39m_wrap_evaluation_matrices\u001b[39m(\n\u001b[0;32m    429\u001b[0m     missing: \u001b[39mfloat\u001b[39m,\n\u001b[0;32m    430\u001b[0m     X: Any,\n\u001b[1;32m   (...)\u001b[0m\n\u001b[0;32m    444\u001b[0m     feature_types: Optional[FeatureTypes],\n\u001b[0;32m    445\u001b[0m ) \u001b[39m-\u001b[39m\u001b[39m>\u001b[39m Tuple[Any, List[Tuple[Any, \u001b[39mstr\u001b[39m]]]:\n\u001b[0;32m    446\u001b[0m \u001b[39m    \u001b[39m\u001b[39m\"\"\"Convert array_like evaluation matrices into DMatrix.  Perform validation on the\u001b[39;00m\n\u001b[0;32m    447\u001b[0m \u001b[39m    way.\"\"\"\u001b[39;00m\n\u001b[1;32m--> 448\u001b[0m     train_dmatrix \u001b[39m=\u001b[39m create_dmatrix(\n\u001b[0;32m    449\u001b[0m         data\u001b[39m=\u001b[39;49mX,\n\u001b[0;32m    450\u001b[0m         label\u001b[39m=\u001b[39;49my,\n\u001b[0;32m    451\u001b[0m         group\u001b[39m=\u001b[39;49mgroup,\n\u001b[0;32m    452\u001b[0m         qid\u001b[39m=\u001b[39;49mqid,\n\u001b[0;32m    453\u001b[0m         weight\u001b[39m=\u001b[39;49msample_weight,\n\u001b[0;32m    454\u001b[0m         base_margin\u001b[39m=\u001b[39;49mbase_margin,\n\u001b[0;32m    455\u001b[0m         feature_weights\u001b[39m=\u001b[39;49mfeature_weights,\n\u001b[0;32m    456\u001b[0m         missing\u001b[39m=\u001b[39;49mmissing,\n\u001b[0;32m    457\u001b[0m         enable_categorical\u001b[39m=\u001b[39;49menable_categorical,\n\u001b[0;32m    458\u001b[0m         feature_types\u001b[39m=\u001b[39;49mfeature_types,\n\u001b[0;32m    459\u001b[0m         ref\u001b[39m=\u001b[39;49m\u001b[39mNone\u001b[39;49;00m,\n\u001b[0;32m    460\u001b[0m     )\n\u001b[0;32m    462\u001b[0m     n_validation \u001b[39m=\u001b[39m \u001b[39m0\u001b[39m \u001b[39mif\u001b[39;00m eval_set \u001b[39mis\u001b[39;00m \u001b[39mNone\u001b[39;00m \u001b[39melse\u001b[39;00m \u001b[39mlen\u001b[39m(eval_set)\n\u001b[0;32m    464\u001b[0m     \u001b[39mdef\u001b[39;00m \u001b[39mvalidate_or_none\u001b[39m(meta: Optional[Sequence], name: \u001b[39mstr\u001b[39m) \u001b[39m-\u001b[39m\u001b[39m>\u001b[39m Sequence:\n",
      "File \u001b[1;32m~\\AppData\\Local\\Packages\\PythonSoftwareFoundation.Python.3.10_qbz5n2kfra8p0\\LocalCache\\local-packages\\Python310\\site-packages\\xgboost\\sklearn.py:908\u001b[0m, in \u001b[0;36mXGBModel._create_dmatrix\u001b[1;34m(self, ref, **kwargs)\u001b[0m\n\u001b[0;32m    906\u001b[0m     \u001b[39mexcept\u001b[39;00m \u001b[39mTypeError\u001b[39;00m:  \u001b[39m# `QuantileDMatrix` supports lesser types than DMatrix\u001b[39;00m\n\u001b[0;32m    907\u001b[0m         \u001b[39mpass\u001b[39;00m\n\u001b[1;32m--> 908\u001b[0m \u001b[39mreturn\u001b[39;00m DMatrix(\u001b[39m*\u001b[39m\u001b[39m*\u001b[39mkwargs, nthread\u001b[39m=\u001b[39m\u001b[39mself\u001b[39m\u001b[39m.\u001b[39mn_jobs)\n",
      "File \u001b[1;32m~\\AppData\\Local\\Packages\\PythonSoftwareFoundation.Python.3.10_qbz5n2kfra8p0\\LocalCache\\local-packages\\Python310\\site-packages\\xgboost\\core.py:620\u001b[0m, in \u001b[0;36mrequire_keyword_args.<locals>.throw_if.<locals>.inner_f\u001b[1;34m(*args, **kwargs)\u001b[0m\n\u001b[0;32m    618\u001b[0m \u001b[39mfor\u001b[39;00m k, arg \u001b[39min\u001b[39;00m \u001b[39mzip\u001b[39m(sig\u001b[39m.\u001b[39mparameters, args):\n\u001b[0;32m    619\u001b[0m     kwargs[k] \u001b[39m=\u001b[39m arg\n\u001b[1;32m--> 620\u001b[0m \u001b[39mreturn\u001b[39;00m func(\u001b[39m*\u001b[39m\u001b[39m*\u001b[39mkwargs)\n",
      "File \u001b[1;32m~\\AppData\\Local\\Packages\\PythonSoftwareFoundation.Python.3.10_qbz5n2kfra8p0\\LocalCache\\local-packages\\Python310\\site-packages\\xgboost\\core.py:743\u001b[0m, in \u001b[0;36mDMatrix.__init__\u001b[1;34m(self, data, label, weight, base_margin, missing, silent, feature_names, feature_types, nthread, group, qid, label_lower_bound, label_upper_bound, feature_weights, enable_categorical)\u001b[0m\n\u001b[0;32m    740\u001b[0m     \u001b[39massert\u001b[39;00m \u001b[39mself\u001b[39m\u001b[39m.\u001b[39mhandle \u001b[39mis\u001b[39;00m \u001b[39mnot\u001b[39;00m \u001b[39mNone\u001b[39;00m\n\u001b[0;32m    741\u001b[0m     \u001b[39mreturn\u001b[39;00m\n\u001b[1;32m--> 743\u001b[0m handle, feature_names, feature_types \u001b[39m=\u001b[39m dispatch_data_backend(\n\u001b[0;32m    744\u001b[0m     data,\n\u001b[0;32m    745\u001b[0m     missing\u001b[39m=\u001b[39;49m\u001b[39mself\u001b[39;49m\u001b[39m.\u001b[39;49mmissing,\n\u001b[0;32m    746\u001b[0m     threads\u001b[39m=\u001b[39;49m\u001b[39mself\u001b[39;49m\u001b[39m.\u001b[39;49mnthread,\n\u001b[0;32m    747\u001b[0m     feature_names\u001b[39m=\u001b[39;49mfeature_names,\n\u001b[0;32m    748\u001b[0m     feature_types\u001b[39m=\u001b[39;49mfeature_types,\n\u001b[0;32m    749\u001b[0m     enable_categorical\u001b[39m=\u001b[39;49menable_categorical,\n\u001b[0;32m    750\u001b[0m )\n\u001b[0;32m    751\u001b[0m \u001b[39massert\u001b[39;00m handle \u001b[39mis\u001b[39;00m \u001b[39mnot\u001b[39;00m \u001b[39mNone\u001b[39;00m\n\u001b[0;32m    752\u001b[0m \u001b[39mself\u001b[39m\u001b[39m.\u001b[39mhandle \u001b[39m=\u001b[39m handle\n",
      "File \u001b[1;32m~\\AppData\\Local\\Packages\\PythonSoftwareFoundation.Python.3.10_qbz5n2kfra8p0\\LocalCache\\local-packages\\Python310\\site-packages\\xgboost\\data.py:970\u001b[0m, in \u001b[0;36mdispatch_data_backend\u001b[1;34m(data, missing, threads, feature_names, feature_types, enable_categorical)\u001b[0m\n\u001b[0;32m    968\u001b[0m     \u001b[39mreturn\u001b[39;00m _from_tuple(data, missing, threads, feature_names, feature_types)\n\u001b[0;32m    969\u001b[0m \u001b[39mif\u001b[39;00m _is_pandas_df(data):\n\u001b[1;32m--> 970\u001b[0m     \u001b[39mreturn\u001b[39;00m _from_pandas_df(data, enable_categorical, missing, threads,\n\u001b[0;32m    971\u001b[0m                            feature_names, feature_types)\n\u001b[0;32m    972\u001b[0m \u001b[39mif\u001b[39;00m _is_pandas_series(data):\n\u001b[0;32m    973\u001b[0m     \u001b[39mreturn\u001b[39;00m _from_pandas_series(\n\u001b[0;32m    974\u001b[0m         data, missing, threads, enable_categorical, feature_names, feature_types\n\u001b[0;32m    975\u001b[0m     )\n",
      "File \u001b[1;32m~\\AppData\\Local\\Packages\\PythonSoftwareFoundation.Python.3.10_qbz5n2kfra8p0\\LocalCache\\local-packages\\Python310\\site-packages\\xgboost\\data.py:417\u001b[0m, in \u001b[0;36m_from_pandas_df\u001b[1;34m(data, enable_categorical, missing, nthread, feature_names, feature_types)\u001b[0m\n\u001b[0;32m    409\u001b[0m \u001b[39mdef\u001b[39;00m \u001b[39m_from_pandas_df\u001b[39m(\n\u001b[0;32m    410\u001b[0m     data: DataFrame,\n\u001b[0;32m    411\u001b[0m     enable_categorical: \u001b[39mbool\u001b[39m,\n\u001b[1;32m   (...)\u001b[0m\n\u001b[0;32m    415\u001b[0m     feature_types: Optional[FeatureTypes],\n\u001b[0;32m    416\u001b[0m ) \u001b[39m-\u001b[39m\u001b[39m>\u001b[39m DispatchedDataBackendReturnType:\n\u001b[1;32m--> 417\u001b[0m     data, feature_names, feature_types \u001b[39m=\u001b[39m _transform_pandas_df(\n\u001b[0;32m    418\u001b[0m         data, enable_categorical, feature_names, feature_types\n\u001b[0;32m    419\u001b[0m     )\n\u001b[0;32m    420\u001b[0m     \u001b[39mreturn\u001b[39;00m _from_numpy_array(data, missing, nthread, feature_names, feature_types)\n",
      "File \u001b[1;32m~\\AppData\\Local\\Packages\\PythonSoftwareFoundation.Python.3.10_qbz5n2kfra8p0\\LocalCache\\local-packages\\Python310\\site-packages\\xgboost\\data.py:391\u001b[0m, in \u001b[0;36m_transform_pandas_df\u001b[1;34m(data, enable_categorical, feature_names, feature_types, meta, meta_type)\u001b[0m\n\u001b[0;32m    379\u001b[0m \u001b[39mfrom\u001b[39;00m \u001b[39mpandas\u001b[39;00m\u001b[39m.\u001b[39;00m\u001b[39mapi\u001b[39;00m\u001b[39m.\u001b[39;00m\u001b[39mtypes\u001b[39;00m \u001b[39mimport\u001b[39;00m (\n\u001b[0;32m    380\u001b[0m     is_sparse,\n\u001b[0;32m    381\u001b[0m     is_categorical_dtype,\n\u001b[0;32m    382\u001b[0m )\n\u001b[0;32m    384\u001b[0m \u001b[39mif\u001b[39;00m \u001b[39mnot\u001b[39;00m \u001b[39mall\u001b[39m(\n\u001b[0;32m    385\u001b[0m     dtype\u001b[39m.\u001b[39mname \u001b[39min\u001b[39;00m _pandas_dtype_mapper\n\u001b[0;32m    386\u001b[0m     \u001b[39mor\u001b[39;00m is_sparse(dtype)\n\u001b[1;32m   (...)\u001b[0m\n\u001b[0;32m    389\u001b[0m     \u001b[39mfor\u001b[39;00m dtype \u001b[39min\u001b[39;00m data\u001b[39m.\u001b[39mdtypes\n\u001b[0;32m    390\u001b[0m ):\n\u001b[1;32m--> 391\u001b[0m     _invalid_dataframe_dtype(data)\n\u001b[0;32m    393\u001b[0m feature_names, feature_types \u001b[39m=\u001b[39m _pandas_feature_info(\n\u001b[0;32m    394\u001b[0m     data, meta, feature_names, feature_types, enable_categorical\n\u001b[0;32m    395\u001b[0m )\n\u001b[0;32m    397\u001b[0m transformed \u001b[39m=\u001b[39m _pandas_cat_null(data)\n",
      "File \u001b[1;32m~\\AppData\\Local\\Packages\\PythonSoftwareFoundation.Python.3.10_qbz5n2kfra8p0\\LocalCache\\local-packages\\Python310\\site-packages\\xgboost\\data.py:283\u001b[0m, in \u001b[0;36m_invalid_dataframe_dtype\u001b[1;34m(data)\u001b[0m\n\u001b[0;32m    281\u001b[0m type_err \u001b[39m=\u001b[39m \u001b[39m\"\u001b[39m\u001b[39mDataFrame.dtypes for data must be int, float, bool or category.\u001b[39m\u001b[39m\"\u001b[39m\n\u001b[0;32m    282\u001b[0m msg \u001b[39m=\u001b[39m \u001b[39mf\u001b[39m\u001b[39m\"\"\"\u001b[39m\u001b[39m{\u001b[39;00mtype_err\u001b[39m}\u001b[39;00m\u001b[39m \u001b[39m\u001b[39m{\u001b[39;00m_ENABLE_CAT_ERR\u001b[39m}\u001b[39;00m\u001b[39m \u001b[39m\u001b[39m{\u001b[39;00merr\u001b[39m}\u001b[39;00m\u001b[39m\"\"\"\u001b[39m\n\u001b[1;32m--> 283\u001b[0m \u001b[39mraise\u001b[39;00m \u001b[39mValueError\u001b[39;00m(msg)\n",
      "\u001b[1;31mValueError\u001b[0m: DataFrame.dtypes for data must be int, float, bool or category. When categorical type is supplied, The experimental DMatrix parameter`enable_categorical` must be set to `True`.  Invalid columns:PostalCode: object"
     ]
    }
   ],
   "source": [
    "# Train XGBoost model\n",
    "xgb_model = xgb.XGBClassifier()\n",
    "xgb_model.fit(X_train, y_train)\n",
    "\n",
    "# Make predictions using XGBoost model\n",
    "xgb_preds = xgb_model.predict(X_test)\n",
    "\n",
    "# Print classification report and accuracy for XGBoost model\n",
    "print(\"XGBoost Classifier:\")\n",
    "print(\"Classification Report:\")\n",
    "print(classification_report(y_test, xgb_preds))\n",
    "print(\"Accuracy:\", np.round(accuracy_score(y_test, xgb_preds)*100,2))"
   ]
  },
  {
   "cell_type": "code",
   "execution_count": null,
   "metadata": {},
   "outputs": [],
   "source": [
    "# Print confusion matrix for XGBoost model\n",
    "print(\"XGBoost Classifier:\")\n",
    "print(\"Confusion Matrix:\")\n",
    "print(confusion_matrix(y_test, xgb_preds))\n",
    "print()"
   ]
  },
  {
   "cell_type": "code",
   "execution_count": null,
   "metadata": {},
   "outputs": [],
   "source": [
    "filename=\"XGB_PCA_model.pkl\"\n",
    "pickle.dump(xgb_model,open(filename,'wb'))"
   ]
  },
  {
   "attachments": {},
   "cell_type": "markdown",
   "metadata": {},
   "source": [
    "### Model Building using Top 15 features obtained from Mutual Information"
   ]
  },
  {
   "cell_type": "code",
   "execution_count": 114,
   "metadata": {},
   "outputs": [],
   "source": [
    "X_train_mi,X_test_mi,y_train_mi,y_test_mi=train_test_split(X_mi,y,test_size=0.2,random_state=0) ## 20% data is for test and 80% goes to"
   ]
  },
  {
   "attachments": {},
   "cell_type": "markdown",
   "metadata": {},
   "source": [
    "### Gradient Boosting"
   ]
  },
  {
   "cell_type": "code",
   "execution_count": 116,
   "metadata": {},
   "outputs": [
    {
     "name": "stdout",
     "output_type": "stream",
     "text": [
      "Gradient Boosting Classifier:\n",
      "Classification Report:\n",
      "              precision    recall  f1-score   support\n",
      "\n",
      "           0       0.81      0.99      0.89     46771\n",
      "           1       0.54      0.03      0.06     11520\n",
      "\n",
      "    accuracy                           0.80     58291\n",
      "   macro avg       0.67      0.51      0.48     58291\n",
      "weighted avg       0.75      0.80      0.73     58291\n",
      "\n",
      "Accuracy: 80.33\n"
     ]
    }
   ],
   "source": [
    "# Train Gradient Boosting model\n",
    "gb_model = GradientBoostingClassifier()\n",
    "gb_model.fit(X_train_mi, y_train_mi)\n",
    "\n",
    "# Make predictions using Gradient Boosting model\n",
    "gb_preds = gb_model.predict(X_test_mi)\n",
    "\n",
    "# Print classification report and accuracy for Gradient Boosting model\n",
    "print(\"Gradient Boosting Classifier:\")\n",
    "print(\"Classification Report:\")\n",
    "print(classification_report(y_test_mi, gb_preds))\n",
    "print(\"Accuracy:\",np.round( accuracy_score(y_test_mi, gb_preds)*100,2))"
   ]
  },
  {
   "cell_type": "code",
   "execution_count": 117,
   "metadata": {},
   "outputs": [
    {
     "name": "stdout",
     "output_type": "stream",
     "text": [
      "Gradient Boosting Classifier:\n",
      "Confusion Matrix:\n",
      "[[46428   343]\n",
      " [11124   396]]\n",
      "\n"
     ]
    }
   ],
   "source": [
    "# Print confusion matrix for Gradient Boosting model\n",
    "print(\"Gradient Boosting Classifier:\")\n",
    "print(\"Confusion Matrix:\")\n",
    "print(confusion_matrix(y_test_mi, gb_preds))\n",
    "print()"
   ]
  },
  {
   "attachments": {},
   "cell_type": "markdown",
   "metadata": {},
   "source": [
    "### XGBoost"
   ]
  },
  {
   "cell_type": "code",
   "execution_count": 118,
   "metadata": {},
   "outputs": [
    {
     "name": "stdout",
     "output_type": "stream",
     "text": [
      "XGBoost Classifier:\n",
      "Classification Report:\n",
      "              precision    recall  f1-score   support\n",
      "\n",
      "           0       0.81      0.98      0.89     46771\n",
      "           1       0.50      0.07      0.12     11520\n",
      "\n",
      "    accuracy                           0.80     58291\n",
      "   macro avg       0.66      0.53      0.51     58291\n",
      "weighted avg       0.75      0.80      0.74     58291\n",
      "\n",
      "Accuracy: 80.25\n"
     ]
    }
   ],
   "source": [
    "# Train XGBoost model\n",
    "xgb_model = xgb.XGBClassifier()\n",
    "xgb_model.fit(X_train_mi, y_train_mi)\n",
    "\n",
    "# Make predictions using XGBoost model\n",
    "xgb_preds = xgb_model.predict(X_test_mi)\n",
    "\n",
    "# Print classification report and accuracy for XGBoost model\n",
    "print(\"XGBoost Classifier:\")\n",
    "print(\"Classification Report:\")\n",
    "print(classification_report(y_test_mi, xgb_preds))\n",
    "print(\"Accuracy:\", np.round(accuracy_score(y_test_mi, xgb_preds)*100,2))"
   ]
  },
  {
   "cell_type": "code",
   "execution_count": 119,
   "metadata": {},
   "outputs": [
    {
     "name": "stdout",
     "output_type": "stream",
     "text": [
      "XGBoost Classifier:\n",
      "Confusion Matrix:\n",
      "[[45955   816]\n",
      " [10698   822]]\n",
      "\n"
     ]
    }
   ],
   "source": [
    "# Print confusion matrix for XGBoost model\n",
    "print(\"XGBoost Classifier:\")\n",
    "print(\"Confusion Matrix:\")\n",
    "print(confusion_matrix(y_test_mi, xgb_preds))\n",
    "print()"
   ]
  }
 ],
 "metadata": {
  "kernelspec": {
   "display_name": "Python 3",
   "language": "python",
   "name": "python3"
  },
  "language_info": {
   "codemirror_mode": {
    "name": "ipython",
    "version": 3
   },
   "file_extension": ".py",
   "mimetype": "text/x-python",
   "name": "python",
   "nbconvert_exporter": "python",
   "pygments_lexer": "ipython3",
   "version": "3.10.11"
  },
  "orig_nbformat": 4
 },
 "nbformat": 4,
 "nbformat_minor": 2
}
